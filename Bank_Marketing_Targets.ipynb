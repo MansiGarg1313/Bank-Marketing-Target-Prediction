{
 "cells": [
  {
   "cell_type": "code",
   "execution_count": 63,
   "id": "d2443f1e",
   "metadata": {},
   "outputs": [],
   "source": [
    "import numpy as np\n",
    "import pandas as pd\n",
    "import seaborn as sns\n",
    "import matplotlib.pyplot as plt\n",
    "from scipy import stats\n",
    "\n",
    "import warnings\n",
    "warnings.filterwarnings('ignore')"
   ]
  },
  {
   "cell_type": "raw",
   "id": "6c2750be",
   "metadata": {},
   "source": [
    "Data Dictionary\n",
    "1 - age (numeric)\n",
    "2 - job : type of job (categorical: \"admin.\",\"unknown\",\"unemployed\",\"management\",\"housemaid\",\"entrepreneur\",\"student\",\n",
    "\"blue-collar\",\"self-employed\",\"retired\",\"technician\",\"services\")\n",
    "3 - marital : marital status (categorical: \"married\",\"divorced\",\"single\"; note: \"divorced\" means divorced or widowed)\n",
    "4 - education (categorical: \"unknown\",\"secondary\",\"primary\",\"tertiary\")\n",
    "5 - default: has credit in default? (binary: \"yes\",\"no\")\n",
    "6 - balance: average yearly balance, in euros (numeric)\n",
    "7 - housing: has housing loan? (binary: \"yes\",\"no\")\n",
    "8 - loan: has personal loan? (binary: \"yes\",\"no\")\n",
    "\n",
    "# related with the last contact of the current campaign:\n",
    "9 - contact: contact communication type (categorical: \"unknown\",\"telephone\",\"cellular\")\n",
    "10 - day: last contact day of the month (numeric)\n",
    "11 - month: last contact month of year (categorical: \"jan\", \"feb\", \"mar\", …, \"nov\", \"dec\")\n",
    "12 - duration: last contact duration, in seconds (numeric)\n",
    "# other attributes:\n",
    "13 - campaign: number of contacts performed during this campaign and for this client (numeric, includes last contact)\n",
    "14 - pdays: number of days that passed by after the client was last contacted from a previous campaign (numeric, -1 means client was not previously contacted)\n",
    "15 - previous: number of contacts performed before this campaign and for this client (numeric)\n",
    "16 - poutcome: outcome of the previous marketing campaign (categorical: \"unknown\",\"other\",\"failure\",\"success\")\n",
    "\n",
    "Output variable (desired target):\n",
    "17 - y - has the client subscribed a term deposit? (binary: \"yes\",\"no\")"
   ]
  },
  {
   "cell_type": "code",
   "execution_count": 64,
   "id": "e133bb1f",
   "metadata": {},
   "outputs": [],
   "source": [
    "df_train = pd.read_csv(r\"D:\\GreatLakes\\Projects\\Bank_Marketing_Targets\\train.csv\", na_values = ['unknown'])"
   ]
  },
  {
   "cell_type": "code",
   "execution_count": 65,
   "id": "db01a10f",
   "metadata": {},
   "outputs": [],
   "source": [
    "df_test = pd.read_csv(r\"D:\\GreatLakes\\Projects\\Bank_Marketing_Targets\\test.csv\" , na_values = ['unknown'])"
   ]
  },
  {
   "cell_type": "code",
   "execution_count": 66,
   "id": "8896885d",
   "metadata": {},
   "outputs": [
    {
     "data": {
      "text/html": [
       "<div>\n",
       "<style scoped>\n",
       "    .dataframe tbody tr th:only-of-type {\n",
       "        vertical-align: middle;\n",
       "    }\n",
       "\n",
       "    .dataframe tbody tr th {\n",
       "        vertical-align: top;\n",
       "    }\n",
       "\n",
       "    .dataframe thead th {\n",
       "        text-align: right;\n",
       "    }\n",
       "</style>\n",
       "<table border=\"1\" class=\"dataframe\">\n",
       "  <thead>\n",
       "    <tr style=\"text-align: right;\">\n",
       "      <th></th>\n",
       "      <th>age</th>\n",
       "      <th>job</th>\n",
       "      <th>marital</th>\n",
       "      <th>education</th>\n",
       "      <th>default</th>\n",
       "      <th>balance</th>\n",
       "      <th>housing</th>\n",
       "      <th>loan</th>\n",
       "      <th>contact</th>\n",
       "      <th>day</th>\n",
       "      <th>month</th>\n",
       "      <th>duration</th>\n",
       "      <th>campaign</th>\n",
       "      <th>pdays</th>\n",
       "      <th>previous</th>\n",
       "      <th>poutcome</th>\n",
       "      <th>y</th>\n",
       "    </tr>\n",
       "  </thead>\n",
       "  <tbody>\n",
       "    <tr>\n",
       "      <th>0</th>\n",
       "      <td>58</td>\n",
       "      <td>management</td>\n",
       "      <td>married</td>\n",
       "      <td>tertiary</td>\n",
       "      <td>no</td>\n",
       "      <td>2143</td>\n",
       "      <td>yes</td>\n",
       "      <td>no</td>\n",
       "      <td>NaN</td>\n",
       "      <td>5</td>\n",
       "      <td>may</td>\n",
       "      <td>261</td>\n",
       "      <td>1</td>\n",
       "      <td>-1</td>\n",
       "      <td>0</td>\n",
       "      <td>NaN</td>\n",
       "      <td>no</td>\n",
       "    </tr>\n",
       "    <tr>\n",
       "      <th>1</th>\n",
       "      <td>44</td>\n",
       "      <td>technician</td>\n",
       "      <td>single</td>\n",
       "      <td>secondary</td>\n",
       "      <td>no</td>\n",
       "      <td>29</td>\n",
       "      <td>yes</td>\n",
       "      <td>no</td>\n",
       "      <td>NaN</td>\n",
       "      <td>5</td>\n",
       "      <td>may</td>\n",
       "      <td>151</td>\n",
       "      <td>1</td>\n",
       "      <td>-1</td>\n",
       "      <td>0</td>\n",
       "      <td>NaN</td>\n",
       "      <td>no</td>\n",
       "    </tr>\n",
       "    <tr>\n",
       "      <th>2</th>\n",
       "      <td>33</td>\n",
       "      <td>entrepreneur</td>\n",
       "      <td>married</td>\n",
       "      <td>secondary</td>\n",
       "      <td>no</td>\n",
       "      <td>2</td>\n",
       "      <td>yes</td>\n",
       "      <td>yes</td>\n",
       "      <td>NaN</td>\n",
       "      <td>5</td>\n",
       "      <td>may</td>\n",
       "      <td>76</td>\n",
       "      <td>1</td>\n",
       "      <td>-1</td>\n",
       "      <td>0</td>\n",
       "      <td>NaN</td>\n",
       "      <td>no</td>\n",
       "    </tr>\n",
       "  </tbody>\n",
       "</table>\n",
       "</div>"
      ],
      "text/plain": [
       "   age           job  marital  education default  balance housing loan  \\\n",
       "0   58    management  married   tertiary      no     2143     yes   no   \n",
       "1   44    technician   single  secondary      no       29     yes   no   \n",
       "2   33  entrepreneur  married  secondary      no        2     yes  yes   \n",
       "\n",
       "  contact  day month  duration  campaign  pdays  previous poutcome   y  \n",
       "0     NaN    5   may       261         1     -1         0      NaN  no  \n",
       "1     NaN    5   may       151         1     -1         0      NaN  no  \n",
       "2     NaN    5   may        76         1     -1         0      NaN  no  "
      ]
     },
     "execution_count": 66,
     "metadata": {},
     "output_type": "execute_result"
    }
   ],
   "source": [
    "df_train.head(3)"
   ]
  },
  {
   "cell_type": "code",
   "execution_count": 67,
   "id": "d028e30f",
   "metadata": {},
   "outputs": [
    {
     "data": {
      "text/html": [
       "<div>\n",
       "<style scoped>\n",
       "    .dataframe tbody tr th:only-of-type {\n",
       "        vertical-align: middle;\n",
       "    }\n",
       "\n",
       "    .dataframe tbody tr th {\n",
       "        vertical-align: top;\n",
       "    }\n",
       "\n",
       "    .dataframe thead th {\n",
       "        text-align: right;\n",
       "    }\n",
       "</style>\n",
       "<table border=\"1\" class=\"dataframe\">\n",
       "  <thead>\n",
       "    <tr style=\"text-align: right;\">\n",
       "      <th></th>\n",
       "      <th>age</th>\n",
       "      <th>job</th>\n",
       "      <th>marital</th>\n",
       "      <th>education</th>\n",
       "      <th>default</th>\n",
       "      <th>balance</th>\n",
       "      <th>housing</th>\n",
       "      <th>loan</th>\n",
       "      <th>contact</th>\n",
       "      <th>day</th>\n",
       "      <th>month</th>\n",
       "      <th>duration</th>\n",
       "      <th>campaign</th>\n",
       "      <th>pdays</th>\n",
       "      <th>previous</th>\n",
       "      <th>poutcome</th>\n",
       "      <th>y</th>\n",
       "    </tr>\n",
       "  </thead>\n",
       "  <tbody>\n",
       "    <tr>\n",
       "      <th>0</th>\n",
       "      <td>30</td>\n",
       "      <td>unemployed</td>\n",
       "      <td>married</td>\n",
       "      <td>primary</td>\n",
       "      <td>no</td>\n",
       "      <td>1787</td>\n",
       "      <td>no</td>\n",
       "      <td>no</td>\n",
       "      <td>cellular</td>\n",
       "      <td>19</td>\n",
       "      <td>oct</td>\n",
       "      <td>79</td>\n",
       "      <td>1</td>\n",
       "      <td>-1</td>\n",
       "      <td>0</td>\n",
       "      <td>NaN</td>\n",
       "      <td>no</td>\n",
       "    </tr>\n",
       "    <tr>\n",
       "      <th>1</th>\n",
       "      <td>33</td>\n",
       "      <td>services</td>\n",
       "      <td>married</td>\n",
       "      <td>secondary</td>\n",
       "      <td>no</td>\n",
       "      <td>4789</td>\n",
       "      <td>yes</td>\n",
       "      <td>yes</td>\n",
       "      <td>cellular</td>\n",
       "      <td>11</td>\n",
       "      <td>may</td>\n",
       "      <td>220</td>\n",
       "      <td>1</td>\n",
       "      <td>339</td>\n",
       "      <td>4</td>\n",
       "      <td>failure</td>\n",
       "      <td>no</td>\n",
       "    </tr>\n",
       "    <tr>\n",
       "      <th>2</th>\n",
       "      <td>35</td>\n",
       "      <td>management</td>\n",
       "      <td>single</td>\n",
       "      <td>tertiary</td>\n",
       "      <td>no</td>\n",
       "      <td>1350</td>\n",
       "      <td>yes</td>\n",
       "      <td>no</td>\n",
       "      <td>cellular</td>\n",
       "      <td>16</td>\n",
       "      <td>apr</td>\n",
       "      <td>185</td>\n",
       "      <td>1</td>\n",
       "      <td>330</td>\n",
       "      <td>1</td>\n",
       "      <td>failure</td>\n",
       "      <td>no</td>\n",
       "    </tr>\n",
       "  </tbody>\n",
       "</table>\n",
       "</div>"
      ],
      "text/plain": [
       "   age         job  marital  education default  balance housing loan  \\\n",
       "0   30  unemployed  married    primary      no     1787      no   no   \n",
       "1   33    services  married  secondary      no     4789     yes  yes   \n",
       "2   35  management   single   tertiary      no     1350     yes   no   \n",
       "\n",
       "    contact  day month  duration  campaign  pdays  previous poutcome   y  \n",
       "0  cellular   19   oct        79         1     -1         0      NaN  no  \n",
       "1  cellular   11   may       220         1    339         4  failure  no  \n",
       "2  cellular   16   apr       185         1    330         1  failure  no  "
      ]
     },
     "execution_count": 67,
     "metadata": {},
     "output_type": "execute_result"
    }
   ],
   "source": [
    "df_test.head(3)"
   ]
  },
  {
   "cell_type": "code",
   "execution_count": 68,
   "id": "25ac5d2f",
   "metadata": {},
   "outputs": [],
   "source": [
    "combine = pd.concat([df_train,df_test], ignore_index =True)"
   ]
  },
  {
   "cell_type": "code",
   "execution_count": 69,
   "id": "ac69f31f",
   "metadata": {},
   "outputs": [
    {
     "data": {
      "text/html": [
       "<div>\n",
       "<style scoped>\n",
       "    .dataframe tbody tr th:only-of-type {\n",
       "        vertical-align: middle;\n",
       "    }\n",
       "\n",
       "    .dataframe tbody tr th {\n",
       "        vertical-align: top;\n",
       "    }\n",
       "\n",
       "    .dataframe thead th {\n",
       "        text-align: right;\n",
       "    }\n",
       "</style>\n",
       "<table border=\"1\" class=\"dataframe\">\n",
       "  <thead>\n",
       "    <tr style=\"text-align: right;\">\n",
       "      <th></th>\n",
       "      <th>age</th>\n",
       "      <th>job</th>\n",
       "      <th>marital</th>\n",
       "      <th>education</th>\n",
       "      <th>default</th>\n",
       "      <th>balance</th>\n",
       "      <th>housing</th>\n",
       "      <th>loan</th>\n",
       "      <th>contact</th>\n",
       "      <th>day</th>\n",
       "      <th>month</th>\n",
       "      <th>duration</th>\n",
       "      <th>campaign</th>\n",
       "      <th>pdays</th>\n",
       "      <th>previous</th>\n",
       "      <th>poutcome</th>\n",
       "      <th>y</th>\n",
       "    </tr>\n",
       "  </thead>\n",
       "  <tbody>\n",
       "    <tr>\n",
       "      <th>0</th>\n",
       "      <td>58</td>\n",
       "      <td>management</td>\n",
       "      <td>married</td>\n",
       "      <td>tertiary</td>\n",
       "      <td>no</td>\n",
       "      <td>2143</td>\n",
       "      <td>yes</td>\n",
       "      <td>no</td>\n",
       "      <td>NaN</td>\n",
       "      <td>5</td>\n",
       "      <td>may</td>\n",
       "      <td>261</td>\n",
       "      <td>1</td>\n",
       "      <td>-1</td>\n",
       "      <td>0</td>\n",
       "      <td>NaN</td>\n",
       "      <td>no</td>\n",
       "    </tr>\n",
       "    <tr>\n",
       "      <th>1</th>\n",
       "      <td>44</td>\n",
       "      <td>technician</td>\n",
       "      <td>single</td>\n",
       "      <td>secondary</td>\n",
       "      <td>no</td>\n",
       "      <td>29</td>\n",
       "      <td>yes</td>\n",
       "      <td>no</td>\n",
       "      <td>NaN</td>\n",
       "      <td>5</td>\n",
       "      <td>may</td>\n",
       "      <td>151</td>\n",
       "      <td>1</td>\n",
       "      <td>-1</td>\n",
       "      <td>0</td>\n",
       "      <td>NaN</td>\n",
       "      <td>no</td>\n",
       "    </tr>\n",
       "    <tr>\n",
       "      <th>2</th>\n",
       "      <td>33</td>\n",
       "      <td>entrepreneur</td>\n",
       "      <td>married</td>\n",
       "      <td>secondary</td>\n",
       "      <td>no</td>\n",
       "      <td>2</td>\n",
       "      <td>yes</td>\n",
       "      <td>yes</td>\n",
       "      <td>NaN</td>\n",
       "      <td>5</td>\n",
       "      <td>may</td>\n",
       "      <td>76</td>\n",
       "      <td>1</td>\n",
       "      <td>-1</td>\n",
       "      <td>0</td>\n",
       "      <td>NaN</td>\n",
       "      <td>no</td>\n",
       "    </tr>\n",
       "    <tr>\n",
       "      <th>3</th>\n",
       "      <td>47</td>\n",
       "      <td>blue-collar</td>\n",
       "      <td>married</td>\n",
       "      <td>NaN</td>\n",
       "      <td>no</td>\n",
       "      <td>1506</td>\n",
       "      <td>yes</td>\n",
       "      <td>no</td>\n",
       "      <td>NaN</td>\n",
       "      <td>5</td>\n",
       "      <td>may</td>\n",
       "      <td>92</td>\n",
       "      <td>1</td>\n",
       "      <td>-1</td>\n",
       "      <td>0</td>\n",
       "      <td>NaN</td>\n",
       "      <td>no</td>\n",
       "    </tr>\n",
       "    <tr>\n",
       "      <th>4</th>\n",
       "      <td>33</td>\n",
       "      <td>NaN</td>\n",
       "      <td>single</td>\n",
       "      <td>NaN</td>\n",
       "      <td>no</td>\n",
       "      <td>1</td>\n",
       "      <td>no</td>\n",
       "      <td>no</td>\n",
       "      <td>NaN</td>\n",
       "      <td>5</td>\n",
       "      <td>may</td>\n",
       "      <td>198</td>\n",
       "      <td>1</td>\n",
       "      <td>-1</td>\n",
       "      <td>0</td>\n",
       "      <td>NaN</td>\n",
       "      <td>no</td>\n",
       "    </tr>\n",
       "    <tr>\n",
       "      <th>...</th>\n",
       "      <td>...</td>\n",
       "      <td>...</td>\n",
       "      <td>...</td>\n",
       "      <td>...</td>\n",
       "      <td>...</td>\n",
       "      <td>...</td>\n",
       "      <td>...</td>\n",
       "      <td>...</td>\n",
       "      <td>...</td>\n",
       "      <td>...</td>\n",
       "      <td>...</td>\n",
       "      <td>...</td>\n",
       "      <td>...</td>\n",
       "      <td>...</td>\n",
       "      <td>...</td>\n",
       "      <td>...</td>\n",
       "      <td>...</td>\n",
       "    </tr>\n",
       "    <tr>\n",
       "      <th>49727</th>\n",
       "      <td>33</td>\n",
       "      <td>services</td>\n",
       "      <td>married</td>\n",
       "      <td>secondary</td>\n",
       "      <td>no</td>\n",
       "      <td>-333</td>\n",
       "      <td>yes</td>\n",
       "      <td>no</td>\n",
       "      <td>cellular</td>\n",
       "      <td>30</td>\n",
       "      <td>jul</td>\n",
       "      <td>329</td>\n",
       "      <td>5</td>\n",
       "      <td>-1</td>\n",
       "      <td>0</td>\n",
       "      <td>NaN</td>\n",
       "      <td>no</td>\n",
       "    </tr>\n",
       "    <tr>\n",
       "      <th>49728</th>\n",
       "      <td>57</td>\n",
       "      <td>self-employed</td>\n",
       "      <td>married</td>\n",
       "      <td>tertiary</td>\n",
       "      <td>yes</td>\n",
       "      <td>-3313</td>\n",
       "      <td>yes</td>\n",
       "      <td>yes</td>\n",
       "      <td>NaN</td>\n",
       "      <td>9</td>\n",
       "      <td>may</td>\n",
       "      <td>153</td>\n",
       "      <td>1</td>\n",
       "      <td>-1</td>\n",
       "      <td>0</td>\n",
       "      <td>NaN</td>\n",
       "      <td>no</td>\n",
       "    </tr>\n",
       "    <tr>\n",
       "      <th>49729</th>\n",
       "      <td>57</td>\n",
       "      <td>technician</td>\n",
       "      <td>married</td>\n",
       "      <td>secondary</td>\n",
       "      <td>no</td>\n",
       "      <td>295</td>\n",
       "      <td>no</td>\n",
       "      <td>no</td>\n",
       "      <td>cellular</td>\n",
       "      <td>19</td>\n",
       "      <td>aug</td>\n",
       "      <td>151</td>\n",
       "      <td>11</td>\n",
       "      <td>-1</td>\n",
       "      <td>0</td>\n",
       "      <td>NaN</td>\n",
       "      <td>no</td>\n",
       "    </tr>\n",
       "    <tr>\n",
       "      <th>49730</th>\n",
       "      <td>28</td>\n",
       "      <td>blue-collar</td>\n",
       "      <td>married</td>\n",
       "      <td>secondary</td>\n",
       "      <td>no</td>\n",
       "      <td>1137</td>\n",
       "      <td>no</td>\n",
       "      <td>no</td>\n",
       "      <td>cellular</td>\n",
       "      <td>6</td>\n",
       "      <td>feb</td>\n",
       "      <td>129</td>\n",
       "      <td>4</td>\n",
       "      <td>211</td>\n",
       "      <td>3</td>\n",
       "      <td>other</td>\n",
       "      <td>no</td>\n",
       "    </tr>\n",
       "    <tr>\n",
       "      <th>49731</th>\n",
       "      <td>44</td>\n",
       "      <td>entrepreneur</td>\n",
       "      <td>single</td>\n",
       "      <td>tertiary</td>\n",
       "      <td>no</td>\n",
       "      <td>1136</td>\n",
       "      <td>yes</td>\n",
       "      <td>yes</td>\n",
       "      <td>cellular</td>\n",
       "      <td>3</td>\n",
       "      <td>apr</td>\n",
       "      <td>345</td>\n",
       "      <td>2</td>\n",
       "      <td>249</td>\n",
       "      <td>7</td>\n",
       "      <td>other</td>\n",
       "      <td>no</td>\n",
       "    </tr>\n",
       "  </tbody>\n",
       "</table>\n",
       "<p>49732 rows × 17 columns</p>\n",
       "</div>"
      ],
      "text/plain": [
       "       age            job  marital  education default  balance housing loan  \\\n",
       "0       58     management  married   tertiary      no     2143     yes   no   \n",
       "1       44     technician   single  secondary      no       29     yes   no   \n",
       "2       33   entrepreneur  married  secondary      no        2     yes  yes   \n",
       "3       47    blue-collar  married        NaN      no     1506     yes   no   \n",
       "4       33            NaN   single        NaN      no        1      no   no   \n",
       "...    ...            ...      ...        ...     ...      ...     ...  ...   \n",
       "49727   33       services  married  secondary      no     -333     yes   no   \n",
       "49728   57  self-employed  married   tertiary     yes    -3313     yes  yes   \n",
       "49729   57     technician  married  secondary      no      295      no   no   \n",
       "49730   28    blue-collar  married  secondary      no     1137      no   no   \n",
       "49731   44   entrepreneur   single   tertiary      no     1136     yes  yes   \n",
       "\n",
       "        contact  day month  duration  campaign  pdays  previous poutcome   y  \n",
       "0           NaN    5   may       261         1     -1         0      NaN  no  \n",
       "1           NaN    5   may       151         1     -1         0      NaN  no  \n",
       "2           NaN    5   may        76         1     -1         0      NaN  no  \n",
       "3           NaN    5   may        92         1     -1         0      NaN  no  \n",
       "4           NaN    5   may       198         1     -1         0      NaN  no  \n",
       "...         ...  ...   ...       ...       ...    ...       ...      ...  ..  \n",
       "49727  cellular   30   jul       329         5     -1         0      NaN  no  \n",
       "49728       NaN    9   may       153         1     -1         0      NaN  no  \n",
       "49729  cellular   19   aug       151        11     -1         0      NaN  no  \n",
       "49730  cellular    6   feb       129         4    211         3    other  no  \n",
       "49731  cellular    3   apr       345         2    249         7    other  no  \n",
       "\n",
       "[49732 rows x 17 columns]"
      ]
     },
     "execution_count": 69,
     "metadata": {},
     "output_type": "execute_result"
    }
   ],
   "source": [
    "combine"
   ]
  },
  {
   "cell_type": "code",
   "execution_count": 70,
   "id": "f3167a42",
   "metadata": {},
   "outputs": [
    {
     "data": {
      "text/plain": [
       "(49732, 17)"
      ]
     },
     "execution_count": 70,
     "metadata": {},
     "output_type": "execute_result"
    }
   ],
   "source": [
    "combine.shape"
   ]
  },
  {
   "cell_type": "code",
   "execution_count": 71,
   "id": "07ff2c3a",
   "metadata": {},
   "outputs": [
    {
     "data": {
      "text/plain": [
       "age              0\n",
       "job            326\n",
       "marital          0\n",
       "education     2044\n",
       "default          0\n",
       "balance          0\n",
       "housing          0\n",
       "loan             0\n",
       "contact      14344\n",
       "day              0\n",
       "month            0\n",
       "duration         0\n",
       "campaign         0\n",
       "pdays            0\n",
       "previous         0\n",
       "poutcome     40664\n",
       "y                0\n",
       "dtype: int64"
      ]
     },
     "execution_count": 71,
     "metadata": {},
     "output_type": "execute_result"
    }
   ],
   "source": [
    "combine.isnull().sum()"
   ]
  },
  {
   "cell_type": "code",
   "execution_count": 72,
   "id": "aef2bf99",
   "metadata": {},
   "outputs": [
    {
     "data": {
      "text/html": [
       "<div>\n",
       "<style scoped>\n",
       "    .dataframe tbody tr th:only-of-type {\n",
       "        vertical-align: middle;\n",
       "    }\n",
       "\n",
       "    .dataframe tbody tr th {\n",
       "        vertical-align: top;\n",
       "    }\n",
       "\n",
       "    .dataframe thead th {\n",
       "        text-align: right;\n",
       "    }\n",
       "</style>\n",
       "<table border=\"1\" class=\"dataframe\">\n",
       "  <thead>\n",
       "    <tr style=\"text-align: right;\">\n",
       "      <th></th>\n",
       "      <th>age</th>\n",
       "      <th>balance</th>\n",
       "      <th>day</th>\n",
       "      <th>duration</th>\n",
       "      <th>campaign</th>\n",
       "      <th>pdays</th>\n",
       "      <th>previous</th>\n",
       "    </tr>\n",
       "  </thead>\n",
       "  <tbody>\n",
       "    <tr>\n",
       "      <th>age</th>\n",
       "      <td>1.000000</td>\n",
       "      <td>0.096564</td>\n",
       "      <td>-0.009880</td>\n",
       "      <td>-0.004399</td>\n",
       "      <td>0.003877</td>\n",
       "      <td>-0.022419</td>\n",
       "      <td>0.000928</td>\n",
       "    </tr>\n",
       "    <tr>\n",
       "      <th>balance</th>\n",
       "      <td>0.096564</td>\n",
       "      <td>1.000000</td>\n",
       "      <td>0.003348</td>\n",
       "      <td>0.018195</td>\n",
       "      <td>-0.014147</td>\n",
       "      <td>0.003968</td>\n",
       "      <td>0.017243</td>\n",
       "    </tr>\n",
       "    <tr>\n",
       "      <th>day</th>\n",
       "      <td>-0.009880</td>\n",
       "      <td>0.003348</td>\n",
       "      <td>1.000000</td>\n",
       "      <td>-0.029674</td>\n",
       "      <td>0.162336</td>\n",
       "      <td>-0.093166</td>\n",
       "      <td>-0.052083</td>\n",
       "    </tr>\n",
       "    <tr>\n",
       "      <th>duration</th>\n",
       "      <td>-0.004399</td>\n",
       "      <td>0.018195</td>\n",
       "      <td>-0.029674</td>\n",
       "      <td>1.000000</td>\n",
       "      <td>-0.083061</td>\n",
       "      <td>-0.000478</td>\n",
       "      <td>0.002330</td>\n",
       "    </tr>\n",
       "    <tr>\n",
       "      <th>campaign</th>\n",
       "      <td>0.003877</td>\n",
       "      <td>-0.014147</td>\n",
       "      <td>0.162336</td>\n",
       "      <td>-0.083061</td>\n",
       "      <td>1.000000</td>\n",
       "      <td>-0.089042</td>\n",
       "      <td>-0.035162</td>\n",
       "    </tr>\n",
       "    <tr>\n",
       "      <th>pdays</th>\n",
       "      <td>-0.022419</td>\n",
       "      <td>0.003968</td>\n",
       "      <td>-0.093166</td>\n",
       "      <td>-0.000478</td>\n",
       "      <td>-0.089042</td>\n",
       "      <td>1.000000</td>\n",
       "      <td>0.461822</td>\n",
       "    </tr>\n",
       "    <tr>\n",
       "      <th>previous</th>\n",
       "      <td>0.000928</td>\n",
       "      <td>0.017243</td>\n",
       "      <td>-0.052083</td>\n",
       "      <td>0.002330</td>\n",
       "      <td>-0.035162</td>\n",
       "      <td>0.461822</td>\n",
       "      <td>1.000000</td>\n",
       "    </tr>\n",
       "  </tbody>\n",
       "</table>\n",
       "</div>"
      ],
      "text/plain": [
       "               age   balance       day  duration  campaign     pdays  previous\n",
       "age       1.000000  0.096564 -0.009880 -0.004399  0.003877 -0.022419  0.000928\n",
       "balance   0.096564  1.000000  0.003348  0.018195 -0.014147  0.003968  0.017243\n",
       "day      -0.009880  0.003348  1.000000 -0.029674  0.162336 -0.093166 -0.052083\n",
       "duration -0.004399  0.018195 -0.029674  1.000000 -0.083061 -0.000478  0.002330\n",
       "campaign  0.003877 -0.014147  0.162336 -0.083061  1.000000 -0.089042 -0.035162\n",
       "pdays    -0.022419  0.003968 -0.093166 -0.000478 -0.089042  1.000000  0.461822\n",
       "previous  0.000928  0.017243 -0.052083  0.002330 -0.035162  0.461822  1.000000"
      ]
     },
     "execution_count": 72,
     "metadata": {},
     "output_type": "execute_result"
    }
   ],
   "source": [
    "combine.corr(numeric_only = True)"
   ]
  },
  {
   "cell_type": "code",
   "execution_count": 73,
   "id": "735494e6",
   "metadata": {},
   "outputs": [
    {
     "data": {
      "text/plain": [
       "<Axes: >"
      ]
     },
     "execution_count": 73,
     "metadata": {},
     "output_type": "execute_result"
    },
    {
     "data": {
      "image/png": "[encoded data removed]",
      "text/plain": [
       "<Figure size 640x480 with 2 Axes>"
      ]
     },
     "metadata": {},
     "output_type": "display_data"
    }
   ],
   "source": [
    "sns.heatmap(combine.corr(numeric_only = True), cmap = 'RdBu', vmin= -1, vmax= 1, annot = True)"
   ]
  },
  {
   "cell_type": "code",
   "execution_count": 74,
   "id": "d2c14b54",
   "metadata": {},
   "outputs": [],
   "source": [
    "combine = pd.get_dummies(data = combine, columns = ['y'], drop_first =True, dtype = 'int')"
   ]
  },
  {
   "cell_type": "code",
   "execution_count": 75,
   "id": "154f4f58",
   "metadata": {},
   "outputs": [
    {
     "data": {
      "text/html": [
       "<div>\n",
       "<style scoped>\n",
       "    .dataframe tbody tr th:only-of-type {\n",
       "        vertical-align: middle;\n",
       "    }\n",
       "\n",
       "    .dataframe tbody tr th {\n",
       "        vertical-align: top;\n",
       "    }\n",
       "\n",
       "    .dataframe thead th {\n",
       "        text-align: right;\n",
       "    }\n",
       "</style>\n",
       "<table border=\"1\" class=\"dataframe\">\n",
       "  <thead>\n",
       "    <tr style=\"text-align: right;\">\n",
       "      <th></th>\n",
       "      <th>age</th>\n",
       "      <th>job</th>\n",
       "      <th>marital</th>\n",
       "      <th>education</th>\n",
       "      <th>default</th>\n",
       "      <th>balance</th>\n",
       "      <th>housing</th>\n",
       "      <th>loan</th>\n",
       "      <th>contact</th>\n",
       "      <th>day</th>\n",
       "      <th>month</th>\n",
       "      <th>duration</th>\n",
       "      <th>campaign</th>\n",
       "      <th>pdays</th>\n",
       "      <th>previous</th>\n",
       "      <th>poutcome</th>\n",
       "      <th>y_yes</th>\n",
       "    </tr>\n",
       "  </thead>\n",
       "  <tbody>\n",
       "    <tr>\n",
       "      <th>0</th>\n",
       "      <td>58</td>\n",
       "      <td>management</td>\n",
       "      <td>married</td>\n",
       "      <td>tertiary</td>\n",
       "      <td>no</td>\n",
       "      <td>2143</td>\n",
       "      <td>yes</td>\n",
       "      <td>no</td>\n",
       "      <td>NaN</td>\n",
       "      <td>5</td>\n",
       "      <td>may</td>\n",
       "      <td>261</td>\n",
       "      <td>1</td>\n",
       "      <td>-1</td>\n",
       "      <td>0</td>\n",
       "      <td>NaN</td>\n",
       "      <td>0</td>\n",
       "    </tr>\n",
       "    <tr>\n",
       "      <th>1</th>\n",
       "      <td>44</td>\n",
       "      <td>technician</td>\n",
       "      <td>single</td>\n",
       "      <td>secondary</td>\n",
       "      <td>no</td>\n",
       "      <td>29</td>\n",
       "      <td>yes</td>\n",
       "      <td>no</td>\n",
       "      <td>NaN</td>\n",
       "      <td>5</td>\n",
       "      <td>may</td>\n",
       "      <td>151</td>\n",
       "      <td>1</td>\n",
       "      <td>-1</td>\n",
       "      <td>0</td>\n",
       "      <td>NaN</td>\n",
       "      <td>0</td>\n",
       "    </tr>\n",
       "    <tr>\n",
       "      <th>2</th>\n",
       "      <td>33</td>\n",
       "      <td>entrepreneur</td>\n",
       "      <td>married</td>\n",
       "      <td>secondary</td>\n",
       "      <td>no</td>\n",
       "      <td>2</td>\n",
       "      <td>yes</td>\n",
       "      <td>yes</td>\n",
       "      <td>NaN</td>\n",
       "      <td>5</td>\n",
       "      <td>may</td>\n",
       "      <td>76</td>\n",
       "      <td>1</td>\n",
       "      <td>-1</td>\n",
       "      <td>0</td>\n",
       "      <td>NaN</td>\n",
       "      <td>0</td>\n",
       "    </tr>\n",
       "  </tbody>\n",
       "</table>\n",
       "</div>"
      ],
      "text/plain": [
       "   age           job  marital  education default  balance housing loan  \\\n",
       "0   58    management  married   tertiary      no     2143     yes   no   \n",
       "1   44    technician   single  secondary      no       29     yes   no   \n",
       "2   33  entrepreneur  married  secondary      no        2     yes  yes   \n",
       "\n",
       "  contact  day month  duration  campaign  pdays  previous poutcome  y_yes  \n",
       "0     NaN    5   may       261         1     -1         0      NaN      0  \n",
       "1     NaN    5   may       151         1     -1         0      NaN      0  \n",
       "2     NaN    5   may        76         1     -1         0      NaN      0  "
      ]
     },
     "execution_count": 75,
     "metadata": {},
     "output_type": "execute_result"
    }
   ],
   "source": [
    "combine.head(3)"
   ]
  },
  {
   "cell_type": "code",
   "execution_count": 76,
   "id": "88e573f8",
   "metadata": {},
   "outputs": [
    {
     "data": {
      "text/plain": [
       "y_yes       1.000000\n",
       "duration    0.395099\n",
       "pdays       0.103665\n",
       "previous    0.094567\n",
       "balance     0.049705\n",
       "age         0.026939\n",
       "day        -0.026821\n",
       "campaign   -0.072085\n",
       "Name: y_yes, dtype: float64"
      ]
     },
     "execution_count": 76,
     "metadata": {},
     "output_type": "execute_result"
    }
   ],
   "source": [
    "combine.corr(numeric_only = True)['y_yes'].sort_values(ascending = False)"
   ]
  },
  {
   "cell_type": "code",
   "execution_count": 77,
   "id": "c8a5ff79",
   "metadata": {},
   "outputs": [
    {
     "data": {
      "text/plain": [
       "job\n",
       "blue-collar      10678\n",
       "management       10427\n",
       "technician        8365\n",
       "admin.            5649\n",
       "services          4571\n",
       "retired           2494\n",
       "self-employed     1762\n",
       "entrepreneur      1655\n",
       "unemployed        1431\n",
       "housemaid         1352\n",
       "student           1022\n",
       "NaN                326\n",
       "Name: count, dtype: int64"
      ]
     },
     "execution_count": 77,
     "metadata": {},
     "output_type": "execute_result"
    }
   ],
   "source": [
    "combine['job'].value_counts(dropna= False)"
   ]
  },
  {
   "cell_type": "code",
   "execution_count": 78,
   "id": "5a4876ea",
   "metadata": {},
   "outputs": [
    {
     "data": {
      "text/html": [
       "<div>\n",
       "<style scoped>\n",
       "    .dataframe tbody tr th:only-of-type {\n",
       "        vertical-align: middle;\n",
       "    }\n",
       "\n",
       "    .dataframe tbody tr th {\n",
       "        vertical-align: top;\n",
       "    }\n",
       "\n",
       "    .dataframe thead th {\n",
       "        text-align: right;\n",
       "    }\n",
       "</style>\n",
       "<table border=\"1\" class=\"dataframe\">\n",
       "  <thead>\n",
       "    <tr style=\"text-align: right;\">\n",
       "      <th></th>\n",
       "      <th>age</th>\n",
       "      <th>job</th>\n",
       "      <th>marital</th>\n",
       "      <th>education</th>\n",
       "      <th>default</th>\n",
       "      <th>balance</th>\n",
       "      <th>housing</th>\n",
       "      <th>loan</th>\n",
       "      <th>contact</th>\n",
       "      <th>day</th>\n",
       "      <th>month</th>\n",
       "      <th>duration</th>\n",
       "      <th>campaign</th>\n",
       "      <th>pdays</th>\n",
       "      <th>previous</th>\n",
       "      <th>poutcome</th>\n",
       "      <th>y_yes</th>\n",
       "    </tr>\n",
       "  </thead>\n",
       "  <tbody>\n",
       "    <tr>\n",
       "      <th>0</th>\n",
       "      <td>58</td>\n",
       "      <td>management</td>\n",
       "      <td>married</td>\n",
       "      <td>tertiary</td>\n",
       "      <td>no</td>\n",
       "      <td>2143</td>\n",
       "      <td>yes</td>\n",
       "      <td>no</td>\n",
       "      <td>NaN</td>\n",
       "      <td>5</td>\n",
       "      <td>may</td>\n",
       "      <td>261</td>\n",
       "      <td>1</td>\n",
       "      <td>-1</td>\n",
       "      <td>0</td>\n",
       "      <td>NaN</td>\n",
       "      <td>0</td>\n",
       "    </tr>\n",
       "  </tbody>\n",
       "</table>\n",
       "</div>"
      ],
      "text/plain": [
       "   age         job  marital education default  balance housing loan contact  \\\n",
       "0   58  management  married  tertiary      no     2143     yes   no     NaN   \n",
       "\n",
       "   day month  duration  campaign  pdays  previous poutcome  y_yes  \n",
       "0    5   may       261         1     -1         0      NaN      0  "
      ]
     },
     "execution_count": 78,
     "metadata": {},
     "output_type": "execute_result"
    }
   ],
   "source": [
    "combine.head(1)"
   ]
  },
  {
   "cell_type": "code",
   "execution_count": 79,
   "id": "9a34cd50",
   "metadata": {},
   "outputs": [],
   "source": [
    "num_cols= ['age', 'balance', 'duration','day','campaign','pdays','previous']\n",
    "cat_cols = ['job','marital','education','default','housing','loan','contact','month','y_yes']"
   ]
  },
  {
   "cell_type": "code",
   "execution_count": 80,
   "id": "02b1e641",
   "metadata": {},
   "outputs": [
    {
     "data": {
      "text/plain": [
       "<Figure size 640x480 with 0 Axes>"
      ]
     },
     "metadata": {},
     "output_type": "display_data"
    },
    {
     "data": {
      "image/png": "[encoded data removed]",
      "text/plain": [
       "<Figure size 1000x700 with 7 Axes>"
      ]
     },
     "metadata": {},
     "output_type": "display_data"
    }
   ],
   "source": [
    "t = 1\n",
    "plt.suptitle('Numerical variables univariate Analysis', color = 'green')\n",
    "plt.figure(figsize = (10,7))\n",
    "for i in num_cols:\n",
    "    s= combine[i].skew()\n",
    "    k = combine[i].kurt()\n",
    "    plt.subplot(4,2,t)\n",
    "    sns.kdeplot(combine[i], color = 'green', fill = True)\n",
    "    plt.title(f'skewness: {round(s,4)}, kurtosis: {round(k,4)}')\n",
    "    t = t+1\n",
    "plt.subplots_adjust(hspace=0.7, wspace=0.4)\n",
    "plt.show()"
   ]
  },
  {
   "cell_type": "code",
   "execution_count": 81,
   "id": "d80d1c2d",
   "metadata": {},
   "outputs": [
    {
     "data": {
      "text/plain": [
       "<Figure size 640x480 with 0 Axes>"
      ]
     },
     "metadata": {},
     "output_type": "display_data"
    },
    {
     "data": {
      "image/png": "[encoded data removed]",
      "text/plain": [
       "<Figure size 1000x700 with 7 Axes>"
      ]
     },
     "metadata": {},
     "output_type": "display_data"
    }
   ],
   "source": [
    "t = 1\n",
    "plt.suptitle('Numerical variables univariate Analysis', color = 'green')\n",
    "plt.figure(figsize = (10,7))\n",
    "for i in num_cols:\n",
    "    plt.subplot(4,2,t)\n",
    "    sns.boxplot(combine[i], color = 'green')\n",
    "    plt.xlabel(i)\n",
    "    t = t+1\n",
    "plt.subplots_adjust(hspace=0.4, wspace=0.4)\n",
    "plt.show()"
   ]
  },
  {
   "cell_type": "code",
   "execution_count": 82,
   "id": "7e9938f6",
   "metadata": {},
   "outputs": [
    {
     "data": {
      "image/png": "[encoded data removed]",
      "text/plain": [
       "<Figure size 1200x1800 with 7 Axes>"
      ]
     },
     "metadata": {},
     "output_type": "display_data"
    }
   ],
   "source": [
    "t = 1\n",
    "plt.figure(figsize = (12,18))\n",
    "for i in num_cols:\n",
    "    plt.subplot(4,2,t)\n",
    "    combine.groupby(by = 'y_yes')[i].mean().sort_values(ascending = True).plot(kind = 'bar', color = 'green')\n",
    "    plt.ylabel(i)\n",
    "    t = t+1\n",
    "plt.subplots_adjust(hspace=0.4, wspace=0.4)\n",
    "plt.show()"
   ]
  },
  {
   "cell_type": "code",
   "execution_count": 83,
   "id": "31709a2f",
   "metadata": {},
   "outputs": [
    {
     "data": {
      "text/plain": [
       "<Figure size 640x480 with 0 Axes>"
      ]
     },
     "metadata": {},
     "output_type": "display_data"
    },
    {
     "data": {
      "image/png": "[encoded data removed]",
      "text/plain": [
       "<Figure size 1200x1800 with 9 Axes>"
      ]
     },
     "metadata": {},
     "output_type": "display_data"
    }
   ],
   "source": [
    "t = 1\n",
    "plt.suptitle('Categorical variables univariate Analysis', color = 'green')\n",
    "plt.figure(figsize = (12,18))\n",
    "for i in cat_cols:\n",
    "    plt.subplot(5,2,t)\n",
    "    sns.countplot(data=combine, x=i, color = 'green')\n",
    "    plt.xticks(rotation  =90)\n",
    "    t = t+1\n",
    "plt.subplots_adjust(hspace=1.5, wspace=0.4)\n",
    "plt.show()"
   ]
  },
  {
   "cell_type": "markdown",
   "id": "b17654d9",
   "metadata": {},
   "source": [
    "## Missing Values"
   ]
  },
  {
   "cell_type": "code",
   "execution_count": 84,
   "id": "7e3f0f2d",
   "metadata": {},
   "outputs": [
    {
     "data": {
      "text/plain": [
       "age              0\n",
       "job            326\n",
       "marital          0\n",
       "education     2044\n",
       "default          0\n",
       "balance          0\n",
       "housing          0\n",
       "loan             0\n",
       "contact      14344\n",
       "day              0\n",
       "month            0\n",
       "duration         0\n",
       "campaign         0\n",
       "pdays            0\n",
       "previous         0\n",
       "poutcome     40664\n",
       "y_yes            0\n",
       "dtype: int64"
      ]
     },
     "execution_count": 84,
     "metadata": {},
     "output_type": "execute_result"
    }
   ],
   "source": [
    "combine.isnull().sum()"
   ]
  },
  {
   "cell_type": "code",
   "execution_count": 85,
   "id": "d558ce07",
   "metadata": {},
   "outputs": [
    {
     "data": {
      "text/plain": [
       "<bound method Series.unique of 0        58\n",
       "1        44\n",
       "2        33\n",
       "3        47\n",
       "4        33\n",
       "         ..\n",
       "49727    33\n",
       "49728    57\n",
       "49729    57\n",
       "49730    28\n",
       "49731    44\n",
       "Name: age, Length: 49732, dtype: int64>"
      ]
     },
     "execution_count": 85,
     "metadata": {},
     "output_type": "execute_result"
    }
   ],
   "source": [
    "combine['age'].unique"
   ]
  },
  {
   "cell_type": "code",
   "execution_count": 86,
   "id": "be9094fb",
   "metadata": {},
   "outputs": [],
   "source": [
    "combine['education'] = combine['education'].fillna(\n",
    "    combine['age'].map(lambda x: 'primary' if x <= 18 else 'secondary' if x <= 24 else 'tertiary'))"
   ]
  },
  {
   "cell_type": "code",
   "execution_count": 87,
   "id": "fd3ac3fc",
   "metadata": {},
   "outputs": [
    {
     "data": {
      "text/plain": [
       "0"
      ]
     },
     "execution_count": 87,
     "metadata": {},
     "output_type": "execute_result"
    }
   ],
   "source": [
    "combine.education.isnull().sum()"
   ]
  },
  {
   "cell_type": "code",
   "execution_count": 88,
   "id": "82fd6dfd",
   "metadata": {},
   "outputs": [
    {
     "data": {
      "text/plain": [
       "education\n",
       "primary      blue-collar\n",
       "secondary    blue-collar\n",
       "tertiary      management\n",
       "Name: job, dtype: object"
      ]
     },
     "execution_count": 88,
     "metadata": {},
     "output_type": "execute_result"
    }
   ],
   "source": [
    "combine.groupby('education')['job'].apply(lambda x: x.mode().iloc[0] if not x.mode().empty else None)"
   ]
  },
  {
   "cell_type": "code",
   "execution_count": 89,
   "id": "fa0a3426",
   "metadata": {},
   "outputs": [],
   "source": [
    "combine['job'] = combine['job'].fillna(combine.groupby('education')['job'].transform\n",
    "                                       (lambda x: x.mode().iloc[0]))"
   ]
  },
  {
   "cell_type": "code",
   "execution_count": 90,
   "id": "99346f0e",
   "metadata": {},
   "outputs": [
    {
     "data": {
      "text/plain": [
       "0"
      ]
     },
     "execution_count": 90,
     "metadata": {},
     "output_type": "execute_result"
    }
   ],
   "source": [
    "combine['job'].isnull().sum()"
   ]
  },
  {
   "cell_type": "code",
   "execution_count": 91,
   "id": "3e2f028f",
   "metadata": {},
   "outputs": [
    {
     "data": {
      "text/html": [
       "<div>\n",
       "<style scoped>\n",
       "    .dataframe tbody tr th:only-of-type {\n",
       "        vertical-align: middle;\n",
       "    }\n",
       "\n",
       "    .dataframe tbody tr th {\n",
       "        vertical-align: top;\n",
       "    }\n",
       "\n",
       "    .dataframe thead th {\n",
       "        text-align: right;\n",
       "    }\n",
       "</style>\n",
       "<table border=\"1\" class=\"dataframe\">\n",
       "  <thead>\n",
       "    <tr style=\"text-align: right;\">\n",
       "      <th></th>\n",
       "      <th>age</th>\n",
       "      <th>job</th>\n",
       "      <th>marital</th>\n",
       "      <th>education</th>\n",
       "      <th>default</th>\n",
       "      <th>balance</th>\n",
       "      <th>housing</th>\n",
       "      <th>loan</th>\n",
       "      <th>contact</th>\n",
       "      <th>day</th>\n",
       "      <th>month</th>\n",
       "      <th>duration</th>\n",
       "      <th>campaign</th>\n",
       "      <th>pdays</th>\n",
       "      <th>previous</th>\n",
       "      <th>poutcome</th>\n",
       "      <th>y_yes</th>\n",
       "    </tr>\n",
       "  </thead>\n",
       "  <tbody>\n",
       "    <tr>\n",
       "      <th>12657</th>\n",
       "      <td>27</td>\n",
       "      <td>management</td>\n",
       "      <td>single</td>\n",
       "      <td>secondary</td>\n",
       "      <td>no</td>\n",
       "      <td>35</td>\n",
       "      <td>no</td>\n",
       "      <td>no</td>\n",
       "      <td>cellular</td>\n",
       "      <td>4</td>\n",
       "      <td>jul</td>\n",
       "      <td>255</td>\n",
       "      <td>1</td>\n",
       "      <td>-1</td>\n",
       "      <td>0</td>\n",
       "      <td>NaN</td>\n",
       "      <td>0</td>\n",
       "    </tr>\n",
       "    <tr>\n",
       "      <th>12658</th>\n",
       "      <td>54</td>\n",
       "      <td>blue-collar</td>\n",
       "      <td>married</td>\n",
       "      <td>primary</td>\n",
       "      <td>no</td>\n",
       "      <td>466</td>\n",
       "      <td>no</td>\n",
       "      <td>no</td>\n",
       "      <td>cellular</td>\n",
       "      <td>4</td>\n",
       "      <td>jul</td>\n",
       "      <td>297</td>\n",
       "      <td>1</td>\n",
       "      <td>-1</td>\n",
       "      <td>0</td>\n",
       "      <td>NaN</td>\n",
       "      <td>0</td>\n",
       "    </tr>\n",
       "    <tr>\n",
       "      <th>12659</th>\n",
       "      <td>43</td>\n",
       "      <td>blue-collar</td>\n",
       "      <td>married</td>\n",
       "      <td>secondary</td>\n",
       "      <td>no</td>\n",
       "      <td>105</td>\n",
       "      <td>no</td>\n",
       "      <td>yes</td>\n",
       "      <td>cellular</td>\n",
       "      <td>4</td>\n",
       "      <td>jul</td>\n",
       "      <td>668</td>\n",
       "      <td>2</td>\n",
       "      <td>-1</td>\n",
       "      <td>0</td>\n",
       "      <td>NaN</td>\n",
       "      <td>0</td>\n",
       "    </tr>\n",
       "    <tr>\n",
       "      <th>12661</th>\n",
       "      <td>27</td>\n",
       "      <td>technician</td>\n",
       "      <td>single</td>\n",
       "      <td>secondary</td>\n",
       "      <td>no</td>\n",
       "      <td>126</td>\n",
       "      <td>yes</td>\n",
       "      <td>yes</td>\n",
       "      <td>cellular</td>\n",
       "      <td>4</td>\n",
       "      <td>jul</td>\n",
       "      <td>436</td>\n",
       "      <td>4</td>\n",
       "      <td>-1</td>\n",
       "      <td>0</td>\n",
       "      <td>NaN</td>\n",
       "      <td>0</td>\n",
       "    </tr>\n",
       "    <tr>\n",
       "      <th>12662</th>\n",
       "      <td>28</td>\n",
       "      <td>blue-collar</td>\n",
       "      <td>single</td>\n",
       "      <td>secondary</td>\n",
       "      <td>no</td>\n",
       "      <td>-127</td>\n",
       "      <td>yes</td>\n",
       "      <td>no</td>\n",
       "      <td>cellular</td>\n",
       "      <td>4</td>\n",
       "      <td>jul</td>\n",
       "      <td>1044</td>\n",
       "      <td>3</td>\n",
       "      <td>-1</td>\n",
       "      <td>0</td>\n",
       "      <td>NaN</td>\n",
       "      <td>1</td>\n",
       "    </tr>\n",
       "    <tr>\n",
       "      <th>...</th>\n",
       "      <td>...</td>\n",
       "      <td>...</td>\n",
       "      <td>...</td>\n",
       "      <td>...</td>\n",
       "      <td>...</td>\n",
       "      <td>...</td>\n",
       "      <td>...</td>\n",
       "      <td>...</td>\n",
       "      <td>...</td>\n",
       "      <td>...</td>\n",
       "      <td>...</td>\n",
       "      <td>...</td>\n",
       "      <td>...</td>\n",
       "      <td>...</td>\n",
       "      <td>...</td>\n",
       "      <td>...</td>\n",
       "      <td>...</td>\n",
       "    </tr>\n",
       "    <tr>\n",
       "      <th>49726</th>\n",
       "      <td>32</td>\n",
       "      <td>services</td>\n",
       "      <td>single</td>\n",
       "      <td>secondary</td>\n",
       "      <td>no</td>\n",
       "      <td>473</td>\n",
       "      <td>yes</td>\n",
       "      <td>no</td>\n",
       "      <td>cellular</td>\n",
       "      <td>7</td>\n",
       "      <td>jul</td>\n",
       "      <td>624</td>\n",
       "      <td>5</td>\n",
       "      <td>-1</td>\n",
       "      <td>0</td>\n",
       "      <td>NaN</td>\n",
       "      <td>0</td>\n",
       "    </tr>\n",
       "    <tr>\n",
       "      <th>49727</th>\n",
       "      <td>33</td>\n",
       "      <td>services</td>\n",
       "      <td>married</td>\n",
       "      <td>secondary</td>\n",
       "      <td>no</td>\n",
       "      <td>-333</td>\n",
       "      <td>yes</td>\n",
       "      <td>no</td>\n",
       "      <td>cellular</td>\n",
       "      <td>30</td>\n",
       "      <td>jul</td>\n",
       "      <td>329</td>\n",
       "      <td>5</td>\n",
       "      <td>-1</td>\n",
       "      <td>0</td>\n",
       "      <td>NaN</td>\n",
       "      <td>0</td>\n",
       "    </tr>\n",
       "    <tr>\n",
       "      <th>49729</th>\n",
       "      <td>57</td>\n",
       "      <td>technician</td>\n",
       "      <td>married</td>\n",
       "      <td>secondary</td>\n",
       "      <td>no</td>\n",
       "      <td>295</td>\n",
       "      <td>no</td>\n",
       "      <td>no</td>\n",
       "      <td>cellular</td>\n",
       "      <td>19</td>\n",
       "      <td>aug</td>\n",
       "      <td>151</td>\n",
       "      <td>11</td>\n",
       "      <td>-1</td>\n",
       "      <td>0</td>\n",
       "      <td>NaN</td>\n",
       "      <td>0</td>\n",
       "    </tr>\n",
       "    <tr>\n",
       "      <th>49730</th>\n",
       "      <td>28</td>\n",
       "      <td>blue-collar</td>\n",
       "      <td>married</td>\n",
       "      <td>secondary</td>\n",
       "      <td>no</td>\n",
       "      <td>1137</td>\n",
       "      <td>no</td>\n",
       "      <td>no</td>\n",
       "      <td>cellular</td>\n",
       "      <td>6</td>\n",
       "      <td>feb</td>\n",
       "      <td>129</td>\n",
       "      <td>4</td>\n",
       "      <td>211</td>\n",
       "      <td>3</td>\n",
       "      <td>other</td>\n",
       "      <td>0</td>\n",
       "    </tr>\n",
       "    <tr>\n",
       "      <th>49731</th>\n",
       "      <td>44</td>\n",
       "      <td>entrepreneur</td>\n",
       "      <td>single</td>\n",
       "      <td>tertiary</td>\n",
       "      <td>no</td>\n",
       "      <td>1136</td>\n",
       "      <td>yes</td>\n",
       "      <td>yes</td>\n",
       "      <td>cellular</td>\n",
       "      <td>3</td>\n",
       "      <td>apr</td>\n",
       "      <td>345</td>\n",
       "      <td>2</td>\n",
       "      <td>249</td>\n",
       "      <td>7</td>\n",
       "      <td>other</td>\n",
       "      <td>0</td>\n",
       "    </tr>\n",
       "  </tbody>\n",
       "</table>\n",
       "<p>32181 rows × 17 columns</p>\n",
       "</div>"
      ],
      "text/plain": [
       "       age           job  marital  education default  balance housing loan  \\\n",
       "12657   27    management   single  secondary      no       35      no   no   \n",
       "12658   54   blue-collar  married    primary      no      466      no   no   \n",
       "12659   43   blue-collar  married  secondary      no      105      no  yes   \n",
       "12661   27    technician   single  secondary      no      126     yes  yes   \n",
       "12662   28   blue-collar   single  secondary      no     -127     yes   no   \n",
       "...    ...           ...      ...        ...     ...      ...     ...  ...   \n",
       "49726   32      services   single  secondary      no      473     yes   no   \n",
       "49727   33      services  married  secondary      no     -333     yes   no   \n",
       "49729   57    technician  married  secondary      no      295      no   no   \n",
       "49730   28   blue-collar  married  secondary      no     1137      no   no   \n",
       "49731   44  entrepreneur   single   tertiary      no     1136     yes  yes   \n",
       "\n",
       "        contact  day month  duration  campaign  pdays  previous poutcome  \\\n",
       "12657  cellular    4   jul       255         1     -1         0      NaN   \n",
       "12658  cellular    4   jul       297         1     -1         0      NaN   \n",
       "12659  cellular    4   jul       668         2     -1         0      NaN   \n",
       "12661  cellular    4   jul       436         4     -1         0      NaN   \n",
       "12662  cellular    4   jul      1044         3     -1         0      NaN   \n",
       "...         ...  ...   ...       ...       ...    ...       ...      ...   \n",
       "49726  cellular    7   jul       624         5     -1         0      NaN   \n",
       "49727  cellular   30   jul       329         5     -1         0      NaN   \n",
       "49729  cellular   19   aug       151        11     -1         0      NaN   \n",
       "49730  cellular    6   feb       129         4    211         3    other   \n",
       "49731  cellular    3   apr       345         2    249         7    other   \n",
       "\n",
       "       y_yes  \n",
       "12657      0  \n",
       "12658      0  \n",
       "12659      0  \n",
       "12661      0  \n",
       "12662      1  \n",
       "...      ...  \n",
       "49726      0  \n",
       "49727      0  \n",
       "49729      0  \n",
       "49730      0  \n",
       "49731      0  \n",
       "\n",
       "[32181 rows x 17 columns]"
      ]
     },
     "execution_count": 91,
     "metadata": {},
     "output_type": "execute_result"
    }
   ],
   "source": [
    "combine.loc[combine['contact']=='cellular',:]"
   ]
  },
  {
   "cell_type": "code",
   "execution_count": 92,
   "id": "18846e5e",
   "metadata": {},
   "outputs": [
    {
     "data": {
      "text/plain": [
       "job\n",
       "admin.           cellular\n",
       "blue-collar      cellular\n",
       "entrepreneur     cellular\n",
       "housemaid        cellular\n",
       "management       cellular\n",
       "retired          cellular\n",
       "self-employed    cellular\n",
       "services         cellular\n",
       "student          cellular\n",
       "technician       cellular\n",
       "unemployed       cellular\n",
       "Name: contact, dtype: object"
      ]
     },
     "execution_count": 92,
     "metadata": {},
     "output_type": "execute_result"
    }
   ],
   "source": [
    "combine.groupby('job')['contact'].apply(lambda x: x.mode()[0])"
   ]
  },
  {
   "cell_type": "code",
   "execution_count": 93,
   "id": "3fede21f",
   "metadata": {},
   "outputs": [
    {
     "data": {
      "text/html": [
       "<div>\n",
       "<style scoped>\n",
       "    .dataframe tbody tr th:only-of-type {\n",
       "        vertical-align: middle;\n",
       "    }\n",
       "\n",
       "    .dataframe tbody tr th {\n",
       "        vertical-align: top;\n",
       "    }\n",
       "\n",
       "    .dataframe thead th {\n",
       "        text-align: right;\n",
       "    }\n",
       "</style>\n",
       "<table border=\"1\" class=\"dataframe\">\n",
       "  <thead>\n",
       "    <tr style=\"text-align: right;\">\n",
       "      <th></th>\n",
       "      <th>age</th>\n",
       "      <th>job</th>\n",
       "      <th>marital</th>\n",
       "      <th>education</th>\n",
       "      <th>default</th>\n",
       "      <th>balance</th>\n",
       "      <th>housing</th>\n",
       "      <th>loan</th>\n",
       "      <th>contact</th>\n",
       "      <th>day</th>\n",
       "      <th>month</th>\n",
       "      <th>duration</th>\n",
       "      <th>campaign</th>\n",
       "      <th>pdays</th>\n",
       "      <th>previous</th>\n",
       "      <th>poutcome</th>\n",
       "      <th>y_yes</th>\n",
       "    </tr>\n",
       "  </thead>\n",
       "  <tbody>\n",
       "    <tr>\n",
       "      <th>12660</th>\n",
       "      <td>31</td>\n",
       "      <td>technician</td>\n",
       "      <td>single</td>\n",
       "      <td>secondary</td>\n",
       "      <td>no</td>\n",
       "      <td>19</td>\n",
       "      <td>no</td>\n",
       "      <td>no</td>\n",
       "      <td>telephone</td>\n",
       "      <td>4</td>\n",
       "      <td>jul</td>\n",
       "      <td>65</td>\n",
       "      <td>2</td>\n",
       "      <td>-1</td>\n",
       "      <td>0</td>\n",
       "      <td>NaN</td>\n",
       "      <td>0</td>\n",
       "    </tr>\n",
       "    <tr>\n",
       "      <th>12663</th>\n",
       "      <td>50</td>\n",
       "      <td>blue-collar</td>\n",
       "      <td>married</td>\n",
       "      <td>secondary</td>\n",
       "      <td>no</td>\n",
       "      <td>1329</td>\n",
       "      <td>yes</td>\n",
       "      <td>yes</td>\n",
       "      <td>telephone</td>\n",
       "      <td>4</td>\n",
       "      <td>jul</td>\n",
       "      <td>141</td>\n",
       "      <td>2</td>\n",
       "      <td>-1</td>\n",
       "      <td>0</td>\n",
       "      <td>NaN</td>\n",
       "      <td>0</td>\n",
       "    </tr>\n",
       "    <tr>\n",
       "      <th>12665</th>\n",
       "      <td>25</td>\n",
       "      <td>blue-collar</td>\n",
       "      <td>single</td>\n",
       "      <td>secondary</td>\n",
       "      <td>no</td>\n",
       "      <td>192</td>\n",
       "      <td>no</td>\n",
       "      <td>no</td>\n",
       "      <td>telephone</td>\n",
       "      <td>4</td>\n",
       "      <td>jul</td>\n",
       "      <td>112</td>\n",
       "      <td>2</td>\n",
       "      <td>-1</td>\n",
       "      <td>0</td>\n",
       "      <td>NaN</td>\n",
       "      <td>0</td>\n",
       "    </tr>\n",
       "    <tr>\n",
       "      <th>12674</th>\n",
       "      <td>36</td>\n",
       "      <td>unemployed</td>\n",
       "      <td>divorced</td>\n",
       "      <td>primary</td>\n",
       "      <td>no</td>\n",
       "      <td>0</td>\n",
       "      <td>no</td>\n",
       "      <td>no</td>\n",
       "      <td>telephone</td>\n",
       "      <td>4</td>\n",
       "      <td>jul</td>\n",
       "      <td>304</td>\n",
       "      <td>3</td>\n",
       "      <td>-1</td>\n",
       "      <td>0</td>\n",
       "      <td>NaN</td>\n",
       "      <td>0</td>\n",
       "    </tr>\n",
       "    <tr>\n",
       "      <th>12705</th>\n",
       "      <td>56</td>\n",
       "      <td>blue-collar</td>\n",
       "      <td>married</td>\n",
       "      <td>primary</td>\n",
       "      <td>no</td>\n",
       "      <td>409</td>\n",
       "      <td>yes</td>\n",
       "      <td>no</td>\n",
       "      <td>telephone</td>\n",
       "      <td>7</td>\n",
       "      <td>jul</td>\n",
       "      <td>176</td>\n",
       "      <td>6</td>\n",
       "      <td>-1</td>\n",
       "      <td>0</td>\n",
       "      <td>NaN</td>\n",
       "      <td>0</td>\n",
       "    </tr>\n",
       "    <tr>\n",
       "      <th>...</th>\n",
       "      <td>...</td>\n",
       "      <td>...</td>\n",
       "      <td>...</td>\n",
       "      <td>...</td>\n",
       "      <td>...</td>\n",
       "      <td>...</td>\n",
       "      <td>...</td>\n",
       "      <td>...</td>\n",
       "      <td>...</td>\n",
       "      <td>...</td>\n",
       "      <td>...</td>\n",
       "      <td>...</td>\n",
       "      <td>...</td>\n",
       "      <td>...</td>\n",
       "      <td>...</td>\n",
       "      <td>...</td>\n",
       "      <td>...</td>\n",
       "    </tr>\n",
       "    <tr>\n",
       "      <th>49654</th>\n",
       "      <td>28</td>\n",
       "      <td>management</td>\n",
       "      <td>single</td>\n",
       "      <td>tertiary</td>\n",
       "      <td>no</td>\n",
       "      <td>0</td>\n",
       "      <td>no</td>\n",
       "      <td>no</td>\n",
       "      <td>telephone</td>\n",
       "      <td>27</td>\n",
       "      <td>may</td>\n",
       "      <td>198</td>\n",
       "      <td>2</td>\n",
       "      <td>-1</td>\n",
       "      <td>0</td>\n",
       "      <td>NaN</td>\n",
       "      <td>0</td>\n",
       "    </tr>\n",
       "    <tr>\n",
       "      <th>49657</th>\n",
       "      <td>22</td>\n",
       "      <td>student</td>\n",
       "      <td>single</td>\n",
       "      <td>secondary</td>\n",
       "      <td>no</td>\n",
       "      <td>246</td>\n",
       "      <td>yes</td>\n",
       "      <td>no</td>\n",
       "      <td>telephone</td>\n",
       "      <td>12</td>\n",
       "      <td>may</td>\n",
       "      <td>25</td>\n",
       "      <td>1</td>\n",
       "      <td>-1</td>\n",
       "      <td>0</td>\n",
       "      <td>NaN</td>\n",
       "      <td>0</td>\n",
       "    </tr>\n",
       "    <tr>\n",
       "      <th>49679</th>\n",
       "      <td>42</td>\n",
       "      <td>housemaid</td>\n",
       "      <td>married</td>\n",
       "      <td>primary</td>\n",
       "      <td>no</td>\n",
       "      <td>1</td>\n",
       "      <td>yes</td>\n",
       "      <td>no</td>\n",
       "      <td>telephone</td>\n",
       "      <td>28</td>\n",
       "      <td>jul</td>\n",
       "      <td>59</td>\n",
       "      <td>5</td>\n",
       "      <td>-1</td>\n",
       "      <td>0</td>\n",
       "      <td>NaN</td>\n",
       "      <td>0</td>\n",
       "    </tr>\n",
       "    <tr>\n",
       "      <th>49685</th>\n",
       "      <td>44</td>\n",
       "      <td>blue-collar</td>\n",
       "      <td>married</td>\n",
       "      <td>primary</td>\n",
       "      <td>no</td>\n",
       "      <td>-237</td>\n",
       "      <td>yes</td>\n",
       "      <td>no</td>\n",
       "      <td>telephone</td>\n",
       "      <td>10</td>\n",
       "      <td>jul</td>\n",
       "      <td>73</td>\n",
       "      <td>1</td>\n",
       "      <td>-1</td>\n",
       "      <td>0</td>\n",
       "      <td>NaN</td>\n",
       "      <td>0</td>\n",
       "    </tr>\n",
       "    <tr>\n",
       "      <th>49706</th>\n",
       "      <td>48</td>\n",
       "      <td>management</td>\n",
       "      <td>married</td>\n",
       "      <td>tertiary</td>\n",
       "      <td>no</td>\n",
       "      <td>1175</td>\n",
       "      <td>yes</td>\n",
       "      <td>no</td>\n",
       "      <td>telephone</td>\n",
       "      <td>18</td>\n",
       "      <td>nov</td>\n",
       "      <td>1476</td>\n",
       "      <td>3</td>\n",
       "      <td>-1</td>\n",
       "      <td>0</td>\n",
       "      <td>NaN</td>\n",
       "      <td>0</td>\n",
       "    </tr>\n",
       "  </tbody>\n",
       "</table>\n",
       "<p>3207 rows × 17 columns</p>\n",
       "</div>"
      ],
      "text/plain": [
       "       age          job   marital  education default  balance housing loan  \\\n",
       "12660   31   technician    single  secondary      no       19      no   no   \n",
       "12663   50  blue-collar   married  secondary      no     1329     yes  yes   \n",
       "12665   25  blue-collar    single  secondary      no      192      no   no   \n",
       "12674   36   unemployed  divorced    primary      no        0      no   no   \n",
       "12705   56  blue-collar   married    primary      no      409     yes   no   \n",
       "...    ...          ...       ...        ...     ...      ...     ...  ...   \n",
       "49654   28   management    single   tertiary      no        0      no   no   \n",
       "49657   22      student    single  secondary      no      246     yes   no   \n",
       "49679   42    housemaid   married    primary      no        1     yes   no   \n",
       "49685   44  blue-collar   married    primary      no     -237     yes   no   \n",
       "49706   48   management   married   tertiary      no     1175     yes   no   \n",
       "\n",
       "         contact  day month  duration  campaign  pdays  previous poutcome  \\\n",
       "12660  telephone    4   jul        65         2     -1         0      NaN   \n",
       "12663  telephone    4   jul       141         2     -1         0      NaN   \n",
       "12665  telephone    4   jul       112         2     -1         0      NaN   \n",
       "12674  telephone    4   jul       304         3     -1         0      NaN   \n",
       "12705  telephone    7   jul       176         6     -1         0      NaN   \n",
       "...          ...  ...   ...       ...       ...    ...       ...      ...   \n",
       "49654  telephone   27   may       198         2     -1         0      NaN   \n",
       "49657  telephone   12   may        25         1     -1         0      NaN   \n",
       "49679  telephone   28   jul        59         5     -1         0      NaN   \n",
       "49685  telephone   10   jul        73         1     -1         0      NaN   \n",
       "49706  telephone   18   nov      1476         3     -1         0      NaN   \n",
       "\n",
       "       y_yes  \n",
       "12660      0  \n",
       "12663      0  \n",
       "12665      0  \n",
       "12674      0  \n",
       "12705      0  \n",
       "...      ...  \n",
       "49654      0  \n",
       "49657      0  \n",
       "49679      0  \n",
       "49685      0  \n",
       "49706      0  \n",
       "\n",
       "[3207 rows x 17 columns]"
      ]
     },
     "execution_count": 93,
     "metadata": {},
     "output_type": "execute_result"
    }
   ],
   "source": [
    "combine.loc[combine['contact']=='telephone',:]"
   ]
  },
  {
   "cell_type": "code",
   "execution_count": 94,
   "id": "acab073b",
   "metadata": {},
   "outputs": [],
   "source": [
    "combine['contact'] = combine['contact'].fillna(combine['contact'].mode()[0])"
   ]
  },
  {
   "cell_type": "code",
   "execution_count": 95,
   "id": "7151148c",
   "metadata": {},
   "outputs": [
    {
     "data": {
      "text/plain": [
       "contact\n",
       "cellular     46525\n",
       "telephone     3207\n",
       "Name: count, dtype: int64"
      ]
     },
     "execution_count": 95,
     "metadata": {},
     "output_type": "execute_result"
    }
   ],
   "source": [
    "combine['contact'].value_counts()"
   ]
  },
  {
   "cell_type": "code",
   "execution_count": 96,
   "id": "7870b8a0",
   "metadata": {},
   "outputs": [
    {
     "data": {
      "text/plain": [
       "0"
      ]
     },
     "execution_count": 96,
     "metadata": {},
     "output_type": "execute_result"
    }
   ],
   "source": [
    "combine['contact'].isnull().sum()"
   ]
  },
  {
   "cell_type": "code",
   "execution_count": 97,
   "id": "89934de7",
   "metadata": {},
   "outputs": [],
   "source": [
    "combine.drop(columns = ['poutcome'],inplace=  True)"
   ]
  },
  {
   "cell_type": "code",
   "execution_count": 98,
   "id": "3603e209",
   "metadata": {},
   "outputs": [
    {
     "data": {
      "text/html": [
       "<div>\n",
       "<style scoped>\n",
       "    .dataframe tbody tr th:only-of-type {\n",
       "        vertical-align: middle;\n",
       "    }\n",
       "\n",
       "    .dataframe tbody tr th {\n",
       "        vertical-align: top;\n",
       "    }\n",
       "\n",
       "    .dataframe thead th {\n",
       "        text-align: right;\n",
       "    }\n",
       "</style>\n",
       "<table border=\"1\" class=\"dataframe\">\n",
       "  <thead>\n",
       "    <tr style=\"text-align: right;\">\n",
       "      <th></th>\n",
       "      <th>age</th>\n",
       "      <th>job</th>\n",
       "      <th>marital</th>\n",
       "      <th>education</th>\n",
       "      <th>default</th>\n",
       "      <th>balance</th>\n",
       "      <th>housing</th>\n",
       "      <th>loan</th>\n",
       "      <th>contact</th>\n",
       "      <th>day</th>\n",
       "      <th>month</th>\n",
       "      <th>duration</th>\n",
       "      <th>campaign</th>\n",
       "      <th>pdays</th>\n",
       "      <th>previous</th>\n",
       "      <th>y_yes</th>\n",
       "    </tr>\n",
       "  </thead>\n",
       "  <tbody>\n",
       "    <tr>\n",
       "      <th>0</th>\n",
       "      <td>58</td>\n",
       "      <td>management</td>\n",
       "      <td>married</td>\n",
       "      <td>tertiary</td>\n",
       "      <td>no</td>\n",
       "      <td>2143</td>\n",
       "      <td>yes</td>\n",
       "      <td>no</td>\n",
       "      <td>cellular</td>\n",
       "      <td>5</td>\n",
       "      <td>may</td>\n",
       "      <td>261</td>\n",
       "      <td>1</td>\n",
       "      <td>-1</td>\n",
       "      <td>0</td>\n",
       "      <td>0</td>\n",
       "    </tr>\n",
       "    <tr>\n",
       "      <th>1</th>\n",
       "      <td>44</td>\n",
       "      <td>technician</td>\n",
       "      <td>single</td>\n",
       "      <td>secondary</td>\n",
       "      <td>no</td>\n",
       "      <td>29</td>\n",
       "      <td>yes</td>\n",
       "      <td>no</td>\n",
       "      <td>cellular</td>\n",
       "      <td>5</td>\n",
       "      <td>may</td>\n",
       "      <td>151</td>\n",
       "      <td>1</td>\n",
       "      <td>-1</td>\n",
       "      <td>0</td>\n",
       "      <td>0</td>\n",
       "    </tr>\n",
       "    <tr>\n",
       "      <th>2</th>\n",
       "      <td>33</td>\n",
       "      <td>entrepreneur</td>\n",
       "      <td>married</td>\n",
       "      <td>secondary</td>\n",
       "      <td>no</td>\n",
       "      <td>2</td>\n",
       "      <td>yes</td>\n",
       "      <td>yes</td>\n",
       "      <td>cellular</td>\n",
       "      <td>5</td>\n",
       "      <td>may</td>\n",
       "      <td>76</td>\n",
       "      <td>1</td>\n",
       "      <td>-1</td>\n",
       "      <td>0</td>\n",
       "      <td>0</td>\n",
       "    </tr>\n",
       "  </tbody>\n",
       "</table>\n",
       "</div>"
      ],
      "text/plain": [
       "   age           job  marital  education default  balance housing loan  \\\n",
       "0   58    management  married   tertiary      no     2143     yes   no   \n",
       "1   44    technician   single  secondary      no       29     yes   no   \n",
       "2   33  entrepreneur  married  secondary      no        2     yes  yes   \n",
       "\n",
       "    contact  day month  duration  campaign  pdays  previous  y_yes  \n",
       "0  cellular    5   may       261         1     -1         0      0  \n",
       "1  cellular    5   may       151         1     -1         0      0  \n",
       "2  cellular    5   may        76         1     -1         0      0  "
      ]
     },
     "execution_count": 98,
     "metadata": {},
     "output_type": "execute_result"
    }
   ],
   "source": [
    "combine.head(3)"
   ]
  },
  {
   "cell_type": "markdown",
   "id": "0e8741c3",
   "metadata": {},
   "source": [
    "### Hypothesis testing of numerical columns"
   ]
  },
  {
   "cell_type": "code",
   "execution_count": 99,
   "id": "e27a2e23",
   "metadata": {},
   "outputs": [],
   "source": [
    "import statsmodels.formula.api as sfa\n",
    "from statsmodels.formula.api import ols\n",
    "from statsmodels.stats.anova import anova_lm"
   ]
  },
  {
   "cell_type": "code",
   "execution_count": 100,
   "id": "5607d2a6",
   "metadata": {},
   "outputs": [
    {
     "name": "stdout",
     "output_type": "stream",
     "text": [
      "               df       sum_sq     mean_sq            F         PR(>F)\n",
      "age           1.0     3.723925    3.723925    43.627699   4.011684e-11\n",
      "balance       1.0    11.492160   11.492160   134.636556   4.348391e-31\n",
      "duration      1.0   798.192950  798.192950  9351.240363   0.000000e+00\n",
      "day           1.0     1.156342    1.156342    13.547135   2.328920e-04\n",
      "campaign      1.0     7.046028    7.046028    82.547835   1.068225e-19\n",
      "pdays         1.0    52.153446   52.153446   611.004410  4.380147e-134\n",
      "previous      1.0    13.188171   13.188171   154.506192   2.026733e-35\n",
      "Residual  49724.0  4244.286824    0.085357          NaN            NaN\n"
     ]
    }
   ],
   "source": [
    "model = sfa.ols('y_yes~age+balance+duration+day+campaign+pdays+previous', data= combine).fit()\n",
    "print(anova_lm(model))"
   ]
  },
  {
   "cell_type": "code",
   "execution_count": 101,
   "id": "c47086b1",
   "metadata": {},
   "outputs": [
    {
     "data": {
      "text/plain": [
       "1.6663985705586486"
      ]
     },
     "execution_count": 101,
     "metadata": {},
     "output_type": "execute_result"
    }
   ],
   "source": [
    "stats.f.isf(0.05,  dfn = 15, dfd = 795696)"
   ]
  },
  {
   "cell_type": "code",
   "execution_count": 102,
   "id": "0a62aaaf",
   "metadata": {},
   "outputs": [
    {
     "name": "stdout",
     "output_type": "stream",
     "text": [
      "age : TtestResult(statistic=6.00974728874957, pvalue=1.871017747031252e-09, df=49730.0)\n",
      "balance : TtestResult(statistic=11.098071400422413, pvalue=1.3849084410582799e-28, df=49730.0)\n",
      "duration : TtestResult(statistic=95.91154939223156, pvalue=0.0, df=49730.0)\n",
      "day : TtestResult(statistic=-5.983200260564416, pvalue=2.2028729022288365e-09, df=49730.0)\n",
      "campaign : TtestResult(statistic=-16.117120450454614, pvalue=2.7190929735525935e-58, df=49730.0)\n",
      "pdays : TtestResult(statistic=23.242774408936974, pvalue=7.262476636353875e-119, df=49730.0)\n",
      "previous : TtestResult(statistic=21.183475411321385, pvalue=3.727063034520358e-99, df=49730.0)\n"
     ]
    }
   ],
   "source": [
    "for i in num_cols:\n",
    "    yes = combine.loc[combine['y_yes']==1,i]\n",
    "    no = combine.loc[combine['y_yes']==0,i]\n",
    "    stats.ttest_ind(yes,no,alternative = 'two-sided')\n",
    "    print(i,':', stats.ttest_ind(yes,no,alternative = 'two-sided'))"
   ]
  },
  {
   "cell_type": "code",
   "execution_count": 103,
   "id": "6ce3dac1",
   "metadata": {},
   "outputs": [
    {
     "data": {
      "text/plain": [
       "1.9599639845400545"
      ]
     },
     "execution_count": 103,
     "metadata": {},
     "output_type": "execute_result"
    }
   ],
   "source": [
    "stats.norm.isf(0.05/2)"
   ]
  },
  {
   "cell_type": "markdown",
   "id": "de18d219",
   "metadata": {},
   "source": [
    "### Hypothesis testing for categorical columns"
   ]
  },
  {
   "cell_type": "code",
   "execution_count": 104,
   "id": "a07e1999",
   "metadata": {},
   "outputs": [
    {
     "name": "stdout",
     "output_type": "stream",
     "text": [
      "Job attribute is significant\n"
     ]
    }
   ],
   "source": [
    "df1 = pd.crosstab(index = combine['job'], columns = combine['y_yes'])\n",
    "p_value1 = stats.chi2_contingency(df1)[1]\n",
    "if p_value1 > 0.05:\n",
    "    print('Job attribute is not significant')\n",
    "else:\n",
    "    print('Job attribute is significant')"
   ]
  },
  {
   "cell_type": "code",
   "execution_count": 105,
   "id": "24b44df4",
   "metadata": {},
   "outputs": [
    {
     "name": "stdout",
     "output_type": "stream",
     "text": [
      "Marital attribute is significant\n"
     ]
    }
   ],
   "source": [
    "df2 = pd.crosstab(index = combine['marital'], columns = combine['y_yes'])\n",
    "p_value2 = stats.chi2_contingency(df2)[1]\n",
    "if p_value2 > 0.05:\n",
    "    print('Marital attribute is not significant')\n",
    "else:\n",
    "    print('Marital attribute is significant')"
   ]
  },
  {
   "cell_type": "code",
   "execution_count": 106,
   "id": "4155775c",
   "metadata": {},
   "outputs": [
    {
     "name": "stdout",
     "output_type": "stream",
     "text": [
      "Education attribute is significant\n"
     ]
    }
   ],
   "source": [
    "df3 = pd.crosstab(index = combine['education'], columns = combine['y_yes'])\n",
    "p_value3 = stats.chi2_contingency(df3)[1]\n",
    "if p_value3 > 0.05:\n",
    "    print('Education attribute is not significant')\n",
    "else:\n",
    "    print('Education attribute is significant')"
   ]
  },
  {
   "cell_type": "code",
   "execution_count": 107,
   "id": "54eb90ac",
   "metadata": {},
   "outputs": [
    {
     "name": "stdout",
     "output_type": "stream",
     "text": [
      "Default attribute is significant\n"
     ]
    }
   ],
   "source": [
    "df4 = pd.crosstab(index = combine['default'], columns = combine['y_yes'])\n",
    "p_value4 = stats.chi2_contingency(df4)[1]\n",
    "if p_value4 > 0.05:\n",
    "    print('Default attribute is not significant')\n",
    "else:\n",
    "    print('Default attribute is significant')"
   ]
  },
  {
   "cell_type": "code",
   "execution_count": 108,
   "id": "04780595",
   "metadata": {},
   "outputs": [
    {
     "name": "stdout",
     "output_type": "stream",
     "text": [
      "Housing attribute is significant\n"
     ]
    }
   ],
   "source": [
    "df5 = pd.crosstab(index = combine['housing'], columns = combine['y_yes'])\n",
    "p_value5 = stats.chi2_contingency(df5)[1]\n",
    "if p_value3 > 0.05:\n",
    "    print('Housing attribute is not significant')\n",
    "else:\n",
    "    print('Housing attribute is significant')"
   ]
  },
  {
   "cell_type": "code",
   "execution_count": 109,
   "id": "c25e8c60",
   "metadata": {},
   "outputs": [
    {
     "name": "stdout",
     "output_type": "stream",
     "text": [
      "Loan attribute is significant\n"
     ]
    }
   ],
   "source": [
    "df6 = pd.crosstab(index = combine['loan'], columns = combine['y_yes'])\n",
    "p_value6 = stats.chi2_contingency(df6)[1]\n",
    "if p_value6 > 0.05:\n",
    "    print('Loan attribute is not significant')\n",
    "else:\n",
    "    print('Loan attribute is significant')"
   ]
  },
  {
   "cell_type": "code",
   "execution_count": 110,
   "id": "6ccbce3c",
   "metadata": {},
   "outputs": [
    {
     "name": "stdout",
     "output_type": "stream",
     "text": [
      "Contact attribute is significant\n"
     ]
    }
   ],
   "source": [
    "df7 = pd.crosstab(index = combine['contact'], columns = combine['y_yes'])\n",
    "p_value7 = stats.chi2_contingency(df7)[1]\n",
    "if p_value7 > 0.05:\n",
    "    print('Contact attribute is not significant')\n",
    "else:\n",
    "    print('Contact attribute is significant')"
   ]
  },
  {
   "cell_type": "code",
   "execution_count": 111,
   "id": "773cb29e",
   "metadata": {},
   "outputs": [
    {
     "name": "stdout",
     "output_type": "stream",
     "text": [
      "Month attribute is significant\n"
     ]
    }
   ],
   "source": [
    "df8 = pd.crosstab(index = combine['month'], columns = combine['y_yes'])\n",
    "p_value8 = stats.chi2_contingency(df8)[1]\n",
    "if p_value8 > 0.05:\n",
    "    print('Month attribute is not significant')\n",
    "else:\n",
    "    print('Month attribute is significant')"
   ]
  },
  {
   "cell_type": "markdown",
   "id": "36dd06c5",
   "metadata": {},
   "source": [
    "### Encoding"
   ]
  },
  {
   "cell_type": "code",
   "execution_count": 112,
   "id": "3d61b420",
   "metadata": {},
   "outputs": [],
   "source": [
    "combine = pd.get_dummies(combine, columns=['marital','default','housing','loan','contact'], drop_first=True, dtype=int)"
   ]
  },
  {
   "cell_type": "code",
   "execution_count": 113,
   "id": "a1751b3e",
   "metadata": {},
   "outputs": [],
   "source": [
    "map1 = combine['job'].value_counts(normalize=True).to_dict()\n",
    "combine['job'] = combine['job'].map(map1)"
   ]
  },
  {
   "cell_type": "code",
   "execution_count": 115,
   "id": "06bf1967",
   "metadata": {},
   "outputs": [],
   "source": [
    "combine['month']  = combine['month'].map(combine['month'].value_counts(normalize=True).to_dict())"
   ]
  },
  {
   "cell_type": "code",
   "execution_count": 119,
   "id": "38737465",
   "metadata": {},
   "outputs": [],
   "source": [
    "combine['education'] = combine['education'].map({'primary':1,'secondary':2, 'tertiary':3})"
   ]
  },
  {
   "cell_type": "code",
   "execution_count": 121,
   "id": "f37c70fd",
   "metadata": {},
   "outputs": [
    {
     "data": {
      "text/html": [
       "<div>\n",
       "<style scoped>\n",
       "    .dataframe tbody tr th:only-of-type {\n",
       "        vertical-align: middle;\n",
       "    }\n",
       "\n",
       "    .dataframe tbody tr th {\n",
       "        vertical-align: top;\n",
       "    }\n",
       "\n",
       "    .dataframe thead th {\n",
       "        text-align: right;\n",
       "    }\n",
       "</style>\n",
       "<table border=\"1\" class=\"dataframe\">\n",
       "  <thead>\n",
       "    <tr style=\"text-align: right;\">\n",
       "      <th></th>\n",
       "      <th>age</th>\n",
       "      <th>job</th>\n",
       "      <th>education</th>\n",
       "      <th>balance</th>\n",
       "      <th>day</th>\n",
       "      <th>month</th>\n",
       "      <th>duration</th>\n",
       "      <th>campaign</th>\n",
       "      <th>pdays</th>\n",
       "      <th>previous</th>\n",
       "      <th>y_yes</th>\n",
       "      <th>marital_married</th>\n",
       "      <th>marital_single</th>\n",
       "      <th>default_yes</th>\n",
       "      <th>housing_yes</th>\n",
       "      <th>loan_yes</th>\n",
       "      <th>contact_telephone</th>\n",
       "    </tr>\n",
       "  </thead>\n",
       "  <tbody>\n",
       "    <tr>\n",
       "      <th>0</th>\n",
       "      <td>58</td>\n",
       "      <td>0.213464</td>\n",
       "      <td>3</td>\n",
       "      <td>2143</td>\n",
       "      <td>5</td>\n",
       "      <td>0.304914</td>\n",
       "      <td>261</td>\n",
       "      <td>1</td>\n",
       "      <td>-1</td>\n",
       "      <td>0</td>\n",
       "      <td>0</td>\n",
       "      <td>1</td>\n",
       "      <td>0</td>\n",
       "      <td>0</td>\n",
       "      <td>1</td>\n",
       "      <td>0</td>\n",
       "      <td>0</td>\n",
       "    </tr>\n",
       "    <tr>\n",
       "      <th>1</th>\n",
       "      <td>44</td>\n",
       "      <td>0.168202</td>\n",
       "      <td>2</td>\n",
       "      <td>29</td>\n",
       "      <td>5</td>\n",
       "      <td>0.304914</td>\n",
       "      <td>151</td>\n",
       "      <td>1</td>\n",
       "      <td>-1</td>\n",
       "      <td>0</td>\n",
       "      <td>0</td>\n",
       "      <td>0</td>\n",
       "      <td>1</td>\n",
       "      <td>0</td>\n",
       "      <td>1</td>\n",
       "      <td>0</td>\n",
       "      <td>0</td>\n",
       "    </tr>\n",
       "    <tr>\n",
       "      <th>2</th>\n",
       "      <td>33</td>\n",
       "      <td>0.033278</td>\n",
       "      <td>2</td>\n",
       "      <td>2</td>\n",
       "      <td>5</td>\n",
       "      <td>0.304914</td>\n",
       "      <td>76</td>\n",
       "      <td>1</td>\n",
       "      <td>-1</td>\n",
       "      <td>0</td>\n",
       "      <td>0</td>\n",
       "      <td>1</td>\n",
       "      <td>0</td>\n",
       "      <td>0</td>\n",
       "      <td>1</td>\n",
       "      <td>1</td>\n",
       "      <td>0</td>\n",
       "    </tr>\n",
       "  </tbody>\n",
       "</table>\n",
       "</div>"
      ],
      "text/plain": [
       "   age       job  education  balance  day     month  duration  campaign  \\\n",
       "0   58  0.213464          3     2143    5  0.304914       261         1   \n",
       "1   44  0.168202          2       29    5  0.304914       151         1   \n",
       "2   33  0.033278          2        2    5  0.304914        76         1   \n",
       "\n",
       "   pdays  previous  y_yes  marital_married  marital_single  default_yes  \\\n",
       "0     -1         0      0                1               0            0   \n",
       "1     -1         0      0                0               1            0   \n",
       "2     -1         0      0                1               0            0   \n",
       "\n",
       "   housing_yes  loan_yes  contact_telephone  \n",
       "0            1         0                  0  \n",
       "1            1         0                  0  \n",
       "2            1         1                  0  "
      ]
     },
     "execution_count": 121,
     "metadata": {},
     "output_type": "execute_result"
    }
   ],
   "source": [
    "combine.head(3)"
   ]
  },
  {
   "cell_type": "markdown",
   "id": "5716a7d4",
   "metadata": {},
   "source": [
    "### Modelling"
   ]
  },
  {
   "cell_type": "code",
   "execution_count": 122,
   "id": "54fd99ca",
   "metadata": {},
   "outputs": [],
   "source": [
    "x_train = combine.loc[0:45210, combine.columns != 'y_yes']"
   ]
  },
  {
   "cell_type": "code",
   "execution_count": 123,
   "id": "19cb0367",
   "metadata": {},
   "outputs": [],
   "source": [
    "y_train = combine.loc[0:45210,'y_yes']"
   ]
  },
  {
   "cell_type": "code",
   "execution_count": 124,
   "id": "66074303",
   "metadata": {},
   "outputs": [],
   "source": [
    "x_test = combine.loc[45211:, combine.columns != 'y_yes']\n",
    "y_test = combine.loc[45211:,'y_yes']"
   ]
  },
  {
   "cell_type": "code",
   "execution_count": 168,
   "id": "04fc3b0d",
   "metadata": {},
   "outputs": [],
   "source": [
    "from sklearn.linear_model import LogisticRegression\n",
    "from sklearn.ensemble import RandomForestClassifier\n",
    "from xgboost import XGBClassifier\n",
    "from sklearn.model_selection import GridSearchCV\n",
    "from sklearn.metrics import confusion_matrix, precision_score, recall_score, accuracy_score, roc_auc_score, roc_curve, classification_report"
   ]
  },
  {
   "cell_type": "markdown",
   "id": "0cbb9ae6",
   "metadata": {},
   "source": [
    "### Logistic Regression"
   ]
  },
  {
   "cell_type": "code",
   "execution_count": 161,
   "id": "a119e620",
   "metadata": {},
   "outputs": [],
   "source": [
    "cw_0= len(y_train)/(2*y_train.value_counts()[0])\n",
    "cw_1 = len(y_train)/(2*y_train.value_counts()[1])"
   ]
  },
  {
   "cell_type": "code",
   "execution_count": 162,
   "id": "3ebbd880",
   "metadata": {},
   "outputs": [
    {
     "name": "stdout",
     "output_type": "stream",
     "text": [
      "0.566241671258955\n",
      "4.274059368500661\n"
     ]
    }
   ],
   "source": [
    "print(cw_0)\n",
    "print(cw_1)"
   ]
  },
  {
   "cell_type": "code",
   "execution_count": 163,
   "id": "335af951",
   "metadata": {},
   "outputs": [],
   "source": [
    "lr = LogisticRegression(class_weight={0: cw_0, 1:cw_1})\n",
    "model_lr = lr.fit(x_train,y_train)"
   ]
  },
  {
   "cell_type": "code",
   "execution_count": 164,
   "id": "a4502166",
   "metadata": {},
   "outputs": [],
   "source": [
    "y_preds_lr = model_lr.predict_proba(x_test)[:,1]\n",
    "y_predh_lr = (y_preds_lr>0.5).astype(int)"
   ]
  },
  {
   "cell_type": "code",
   "execution_count": 165,
   "id": "1abe7996",
   "metadata": {},
   "outputs": [
    {
     "name": "stdout",
     "output_type": "stream",
     "text": [
      "[[3192  808]\n",
      " [ 142  379]]\n",
      "Precision_score: 0.3192923336141533\n",
      "Recall_score: 0.727447216890595\n",
      " roc_auc_score: 0.7627236084452975\n"
     ]
    }
   ],
   "source": [
    "print(confusion_matrix(y_test,y_predh_lr))\n",
    "print(f'Precision_score: {precision_score(y_test,y_predh_lr)}')\n",
    "print(f'Recall_score: {recall_score(y_test,y_predh_lr)}')\n",
    "print(f' roc_auc_score: {roc_auc_score(y_test,y_predh_lr)}')"
   ]
  },
  {
   "cell_type": "code",
   "execution_count": 167,
   "id": "67905247",
   "metadata": {},
   "outputs": [
    {
     "data": {
      "image/png": "[encoded data removed]",
      "text/plain": [
       "<Figure size 640x480 with 1 Axes>"
      ]
     },
     "metadata": {},
     "output_type": "display_data"
    }
   ],
   "source": [
    "fpr,tpr,threshold = roc_curve(y_test,y_preds_lr)\n",
    "plt.plot(fpr,tpr)\n",
    "plt.plot([0,1],[0,1],color='red',ls='--')\n",
    "plt.title(f'ROC AUC: {round(roc_auc_score(y_test,y_preds_lr),2)}')\n",
    "plt.show()"
   ]
  },
  {
   "cell_type": "markdown",
   "id": "28ff4679",
   "metadata": {},
   "source": [
    "### Random Forest Classifier using GridSearchCV"
   ]
  },
  {
   "cell_type": "code",
   "execution_count": 171,
   "id": "6938f6df",
   "metadata": {},
   "outputs": [],
   "source": [
    "grid = {'max_depth':[4,5,6], 'min_samples_split':[8,9,10]}\n",
    "gscv = GridSearchCV(estimator=RandomForestClassifier(n_estimators=100), param_grid=grid, cv=5, scoring='roc_auc')\n",
    "model_cv = gscv.fit(x_train,y_train)"
   ]
  },
  {
   "cell_type": "code",
   "execution_count": 172,
   "id": "1829d1ed",
   "metadata": {},
   "outputs": [
    {
     "data": {
      "text/plain": [
       "{'max_depth': 4, 'min_samples_split': 8}"
      ]
     },
     "execution_count": 172,
     "metadata": {},
     "output_type": "execute_result"
    }
   ],
   "source": [
    "model_cv.best_params_"
   ]
  },
  {
   "cell_type": "code",
   "execution_count": 173,
   "id": "d6f40f19",
   "metadata": {},
   "outputs": [],
   "source": [
    "rf = RandomForestClassifier(n_estimators=100, **model_cv.best_params_)\n",
    "model_rf = rf.fit(x_train,y_train)"
   ]
  },
  {
   "cell_type": "code",
   "execution_count": 174,
   "id": "5ce3b0b2",
   "metadata": {},
   "outputs": [],
   "source": [
    "y_preds_rf = model_rf.predict_proba(x_test)[:,1]\n",
    "y_predh_rf = (y_preds_rf>0.5).astype(int)"
   ]
  },
  {
   "cell_type": "code",
   "execution_count": 175,
   "id": "cfeed501",
   "metadata": {},
   "outputs": [
    {
     "name": "stdout",
     "output_type": "stream",
     "text": [
      "[[3993    7]\n",
      " [ 509   12]]\n",
      "Precision_score: 0.631578947368421\n",
      "Recall_score: 0.023032629558541268\n",
      " roc_auc_score: 0.5106413147792705\n"
     ]
    }
   ],
   "source": [
    "print(confusion_matrix(y_test,y_predh_rf))\n",
    "print(f'Precision_score: {precision_score(y_test,y_predh_rf)}')\n",
    "print(f'Recall_score: {recall_score(y_test,y_predh_rf)}')\n",
    "print(f' roc_auc_score: {roc_auc_score(y_test,y_predh_rf)}')"
   ]
  },
  {
   "cell_type": "code",
   "execution_count": 176,
   "id": "66974f24",
   "metadata": {},
   "outputs": [
    {
     "data": {
      "image/png": "[encoded data removed]",
      "text/plain": [
       "<Figure size 640x480 with 1 Axes>"
      ]
     },
     "metadata": {},
     "output_type": "display_data"
    }
   ],
   "source": [
    "fpr,tpr,threshold = roc_curve(y_test,y_preds_rf)\n",
    "plt.plot(fpr,tpr)\n",
    "plt.plot([0,1],[0,1],color='red',ls='--')\n",
    "plt.title(f'ROC AUC: {round(roc_auc_score(y_test,y_preds_rf),2)}')\n",
    "plt.show()"
   ]
  },
  {
   "cell_type": "markdown",
   "id": "49fb98ba",
   "metadata": {},
   "source": [
    "### XGBoost Classifier using GridSearchCV"
   ]
  },
  {
   "cell_type": "code",
   "execution_count": 177,
   "id": "d14fd15f",
   "metadata": {},
   "outputs": [],
   "source": [
    "grid1 = {'max_depth':[4,5,6], 'learning_rate':[0.1,0.2,0.3]}\n",
    "gscv1 = GridSearchCV(estimator=XGBClassifier( n_estimators=100), param_grid=grid1, cv=5, scoring='roc_auc')\n",
    "model_cv1 = gscv1.fit(x_train, y_train)"
   ]
  },
  {
   "cell_type": "code",
   "execution_count": 178,
   "id": "7bcc9e97",
   "metadata": {},
   "outputs": [
    {
     "data": {
      "text/plain": [
       "{'learning_rate': 0.1, 'max_depth': 4}"
      ]
     },
     "execution_count": 178,
     "metadata": {},
     "output_type": "execute_result"
    }
   ],
   "source": [
    "model_cv1.best_params_"
   ]
  },
  {
   "cell_type": "code",
   "execution_count": 179,
   "id": "62994834",
   "metadata": {},
   "outputs": [],
   "source": [
    "xgb = XGBClassifier(n_estimators=100, **model_cv1.best_params_)\n",
    "model_xgb = xgb.fit(x_train,y_train)"
   ]
  },
  {
   "cell_type": "code",
   "execution_count": 180,
   "id": "7e3c855f",
   "metadata": {},
   "outputs": [],
   "source": [
    "y_preds_xgb = model_xgb.predict_proba(x_test)[:,1]\n",
    "y_predh_xgb = (y_preds_xgb>0.5).astype(int)"
   ]
  },
  {
   "cell_type": "code",
   "execution_count": 182,
   "id": "233609f3",
   "metadata": {},
   "outputs": [
    {
     "name": "stdout",
     "output_type": "stream",
     "text": [
      "[[3875  125]\n",
      " [ 290  231]]\n",
      "Precision_score: 0.648876404494382\n",
      "Recall_score: 0.44337811900191937\n",
      " roc_auc_score: 0.7060640595009597\n"
     ]
    }
   ],
   "source": [
    "print(confusion_matrix(y_test,y_predh_xgb))\n",
    "print(f'Precision_score: {precision_score(y_test,y_predh_xgb)}')\n",
    "print(f'Recall_score: {recall_score(y_test,y_predh_xgb)}')\n",
    "print(f' roc_auc_score: {roc_auc_score(y_test,y_predh_xgb)}')"
   ]
  },
  {
   "cell_type": "code",
   "execution_count": 184,
   "id": "4058df21",
   "metadata": {},
   "outputs": [
    {
     "data": {
      "image/png": "[encoded data removed]",
      "text/plain": [
       "<Figure size 640x480 with 1 Axes>"
      ]
     },
     "metadata": {},
     "output_type": "display_data"
    }
   ],
   "source": [
    "fpr,tpr,threshold = roc_curve(y_test,y_preds_xgb)\n",
    "plt.plot(fpr,tpr)\n",
    "plt.plot([0,1],[0,1],color='red',ls='--')\n",
    "plt.title(f'ROC AUC: {round(roc_auc_score(y_test,y_preds_xgb),2)}')\n",
    "plt.show()"
   ]
  },
  {
   "cell_type": "code",
   "execution_count": null,
   "id": "d34a3fd3",
   "metadata": {},
   "outputs": [],
   "source": []
  }
 ],
 "metadata": {
  "kernelspec": {
   "display_name": "Python 3 (ipykernel)",
   "language": "python",
   "name": "python3"
  },
  "language_info": {
   "codemirror_mode": {
    "name": "ipython",
    "version": 3
   },
   "file_extension": ".py",
   "mimetype": "text/x-python",
   "name": "python",
   "nbconvert_exporter": "python",
   "pygments_lexer": "ipython3",
   "version": "3.11.7"
  }
 },
 "nbformat": 4,
 "nbformat_minor": 5
}
